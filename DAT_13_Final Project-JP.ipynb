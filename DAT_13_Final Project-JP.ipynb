{
 "cells": [
  {
   "cell_type": "markdown",
   "metadata": {},
   "source": [
    "# Hello, thanks for viewing"
   ]
  },
  {
   "cell_type": "markdown",
   "metadata": {},
   "source": [
    "# Problem statement and hypothesis"
   ]
  },
  {
   "cell_type": "markdown",
   "metadata": {},
   "source": [
    "Every year West Nile Virus is a growing concern and causes death in Chicago and nearby suburban areas. The virus is found in infected birds but is passed on to humans by mosquitoes that bit the birds and became infected. So, the project is to use the data where they have found West Nile Virus in mosquitoes in the past to predict where and when West Nile Virus will be present in the future. For more details please go to https://www.kaggle.com/c/predict-west-nile-virus.\n"
   ]
  },
  {
   "cell_type": "markdown",
   "metadata": {},
   "source": [
    "# Description of your data set and how it was obtained"
   ]
  },
  {
   "cell_type": "markdown",
   "metadata": {},
   "source": [
    "The data is provided by Kaggle competition. The data provides the location, mosquito species, weather, spraying (Chicago sprays anti-mosquito chemical in certain areas) data, and whether the virus was found in the mosquitoes. The datasets are spray.csv, weather.csv, train.csv, test.csv. Refer to https://www.kaggle.com/c/predict-west-nile-virus/data for more details (“noaa_weather_qclcd_documentation” provides more details regarding the weather data). \n",
    "\n",
    "Basically \n",
    "- Train.csv provides data of when and where they trapped mosquitoes (Chicago trap mosquitoes around the city to test for virus), the species of mosquitoes that were trapped, and if they have West Nile Virus. \n",
    "- Weather.csv provides a bunch of weather info (temperature, humidity, wind speed, etc.) from 2 weather station. \n",
    "- Spray.csv provides when and where they sprayed anti-mosquitoes chemical.\n",
    "- Test.csv is a test set, please ignore for now.\n",
    "- Sample_submission.csv is how to format my data when I submit, so ignore this one too.\n",
    "\n",
    "So far, I have completed parts of the Data Munging process, and I still need to clean the data further. I have successfully combined the training data with the weather data to add features from the weather data to the training data. I will take you through the steps with the code below."
   ]
  },
  {
   "cell_type": "code",
   "execution_count": 1642,
   "metadata": {
    "collapsed": false
   },
   "outputs": [],
   "source": [
    "#Installing Packages\n",
    "import json\n",
    "import datetime\n",
    "import numpy as np\n",
    "import pandas as pd\n",
    "from math import *\n",
    "\n",
    "import matplotlib.pyplot as plt\n",
    "import seaborn as sns\n",
    "\n",
    "%matplotlib inline"
   ]
  },
  {
   "cell_type": "code",
   "execution_count": 1643,
   "metadata": {
    "collapsed": false
   },
   "outputs": [],
   "source": [
    "#Reading the data, data acquired from kaggle competition\n",
    "spray = pd.read_csv('spray.csv')\n",
    "weather = pd.read_csv('weather.csv')\n",
    "train = pd.read_csv('train.csv')\n",
    "test = pd.read_csv('test.csv')\n",
    "sample_submission = pd.read_csv('sampleSubmission.csv')\n"
   ]
  },
  {
   "cell_type": "code",
   "execution_count": 1644,
   "metadata": {
    "collapsed": false
   },
   "outputs": [
    {
     "data": {
      "text/plain": [
       "array([0])"
      ]
     },
     "execution_count": 1644,
     "metadata": {},
     "output_type": "execute_result"
    }
   ],
   "source": [
    "sample_submission.head()\n",
    "sample_submission.WnvPresent.unique()"
   ]
  },
  {
   "cell_type": "markdown",
   "metadata": {},
   "source": [
    "# Data Visualization"
   ]
  },
  {
   "cell_type": "markdown",
   "metadata": {},
   "source": [
    "Parts of my data visualization is done pn Excel, because it is easier to view on Excel than on an ipython notebook.\n",
    "Most of data is complete, the concern is the weather data which provides data in different units/formats, and also has missing data in different formats (some are blank, some are replaced by letter \"M\"). The weather data is also taken from two weather stations (2 locations) which does not provide an accurate weather report of the location that mosquitoes were caught which are spread out across the city. I also need to find a way to create features from the spray data which seems like a stand alone data set at the moment. I am planning to use the distance between the location they trapped the mosquitoes and the sprayed area because spraying should reduce the number of mosquito overall and also mosquito with West Nile Virus."
   ]
  },
  {
   "cell_type": "code",
   "execution_count": 1645,
   "metadata": {
    "collapsed": false
   },
   "outputs": [
    {
     "name": "stdout",
     "output_type": "stream",
     "text": [
      "<class 'pandas.core.frame.DataFrame'>\n",
      "Int64Index: 14835 entries, 0 to 14834\n",
      "Data columns (total 4 columns):\n",
      "Date         14835 non-null object\n",
      "Time         14251 non-null object\n",
      "Latitude     14835 non-null float64\n",
      "Longitude    14835 non-null float64\n",
      "dtypes: float64(2), object(2)"
     ]
    }
   ],
   "source": [
    "spray.info()"
   ]
  },
  {
   "cell_type": "code",
   "execution_count": 1646,
   "metadata": {
    "collapsed": false
   },
   "outputs": [
    {
     "data": {
      "text/html": [
       "<div style=\"max-height:1000px;max-width:1500px;overflow:auto;\">\n",
       "<table border=\"1\" class=\"dataframe\">\n",
       "  <thead>\n",
       "    <tr style=\"text-align: right;\">\n",
       "      <th></th>\n",
       "      <th>Date</th>\n",
       "      <th>Time</th>\n",
       "      <th>Latitude</th>\n",
       "      <th>Longitude</th>\n",
       "    </tr>\n",
       "  </thead>\n",
       "  <tbody>\n",
       "    <tr>\n",
       "      <th>0</th>\n",
       "      <td> 2011-08-29</td>\n",
       "      <td> 6:56:58 PM</td>\n",
       "      <td> 42.391623</td>\n",
       "      <td>-88.089163</td>\n",
       "    </tr>\n",
       "    <tr>\n",
       "      <th>1</th>\n",
       "      <td> 2011-08-29</td>\n",
       "      <td> 6:57:08 PM</td>\n",
       "      <td> 42.391348</td>\n",
       "      <td>-88.089163</td>\n",
       "    </tr>\n",
       "    <tr>\n",
       "      <th>2</th>\n",
       "      <td> 2011-08-29</td>\n",
       "      <td> 6:57:18 PM</td>\n",
       "      <td> 42.391022</td>\n",
       "      <td>-88.089157</td>\n",
       "    </tr>\n",
       "    <tr>\n",
       "      <th>3</th>\n",
       "      <td> 2011-08-29</td>\n",
       "      <td> 6:57:28 PM</td>\n",
       "      <td> 42.390637</td>\n",
       "      <td>-88.089158</td>\n",
       "    </tr>\n",
       "    <tr>\n",
       "      <th>4</th>\n",
       "      <td> 2011-08-29</td>\n",
       "      <td> 6:57:38 PM</td>\n",
       "      <td> 42.390410</td>\n",
       "      <td>-88.088858</td>\n",
       "    </tr>\n",
       "  </tbody>\n",
       "</table>\n",
       "</div>"
      ],
      "text/plain": [
       "         Date        Time   Latitude  Longitude\n",
       "0  2011-08-29  6:56:58 PM  42.391623 -88.089163\n",
       "1  2011-08-29  6:57:08 PM  42.391348 -88.089163\n",
       "2  2011-08-29  6:57:18 PM  42.391022 -88.089157\n",
       "3  2011-08-29  6:57:28 PM  42.390637 -88.089158\n",
       "4  2011-08-29  6:57:38 PM  42.390410 -88.088858"
      ]
     },
     "execution_count": 1646,
     "metadata": {},
     "output_type": "execute_result"
    }
   ],
   "source": [
    "spray.head()"
   ]
  },
  {
   "cell_type": "code",
   "execution_count": 1647,
   "metadata": {
    "collapsed": false
   },
   "outputs": [
    {
     "data": {
      "text/plain": [
       "array([['2011-08-29', '6:56:58 PM', 42.3916233333333, -88.0891633333333],\n",
       "       ['2011-08-29', '6:57:08 PM', 42.3913483333333, -88.0891633333333],\n",
       "       ['2011-08-29', '6:57:18 PM', 42.3910216666667, -88.0891566666667],\n",
       "       ..., \n",
       "       ['2013-09-05', '8:35:21 PM', 42.006021666666705, -87.8173916666667],\n",
       "       ['2013-09-05', '8:35:31 PM', 42.0054533333333, -87.8174233333333],\n",
       "       ['2013-09-05', '8:35:41 PM', 42.004805, -87.81746]], dtype=object)"
      ]
     },
     "execution_count": 1647,
     "metadata": {},
     "output_type": "execute_result"
    }
   ],
   "source": [
    "#some data are null, fill na with median\n",
    "spray_features = spray.fillna(spray.dropna().median()).values\n",
    "spray_features"
   ]
  },
  {
   "cell_type": "code",
   "execution_count": 1648,
   "metadata": {
    "collapsed": false
   },
   "outputs": [
    {
     "data": {
      "text/html": [
       "<div style=\"max-height:1000px;max-width:1500px;overflow:auto;\">\n",
       "<table border=\"1\" class=\"dataframe\">\n",
       "  <thead>\n",
       "    <tr style=\"text-align: right;\">\n",
       "      <th></th>\n",
       "      <th>Station</th>\n",
       "      <th>Tmax</th>\n",
       "      <th>Tmin</th>\n",
       "      <th>DewPoint</th>\n",
       "      <th>ResultSpeed</th>\n",
       "      <th>ResultDir</th>\n",
       "    </tr>\n",
       "  </thead>\n",
       "  <tbody>\n",
       "    <tr>\n",
       "      <th>count</th>\n",
       "      <td> 2944.000000</td>\n",
       "      <td> 2944.000000</td>\n",
       "      <td> 2944.000000</td>\n",
       "      <td> 2944.000000</td>\n",
       "      <td> 2944.000000</td>\n",
       "      <td> 2944.000000</td>\n",
       "    </tr>\n",
       "    <tr>\n",
       "      <th>mean</th>\n",
       "      <td>    1.500000</td>\n",
       "      <td>   76.166101</td>\n",
       "      <td>   57.810462</td>\n",
       "      <td>   53.457880</td>\n",
       "      <td>    6.960666</td>\n",
       "      <td>   17.494905</td>\n",
       "    </tr>\n",
       "    <tr>\n",
       "      <th>std</th>\n",
       "      <td>    0.500085</td>\n",
       "      <td>   11.461970</td>\n",
       "      <td>   10.381939</td>\n",
       "      <td>   10.675181</td>\n",
       "      <td>    3.587527</td>\n",
       "      <td>   10.063609</td>\n",
       "    </tr>\n",
       "    <tr>\n",
       "      <th>min</th>\n",
       "      <td>    1.000000</td>\n",
       "      <td>   41.000000</td>\n",
       "      <td>   29.000000</td>\n",
       "      <td>   22.000000</td>\n",
       "      <td>    0.100000</td>\n",
       "      <td>    1.000000</td>\n",
       "    </tr>\n",
       "    <tr>\n",
       "      <th>25%</th>\n",
       "      <td>    1.000000</td>\n",
       "      <td>   69.000000</td>\n",
       "      <td>   50.000000</td>\n",
       "      <td>   46.000000</td>\n",
       "      <td>    4.300000</td>\n",
       "      <td>    7.000000</td>\n",
       "    </tr>\n",
       "    <tr>\n",
       "      <th>50%</th>\n",
       "      <td>    1.500000</td>\n",
       "      <td>   78.000000</td>\n",
       "      <td>   59.000000</td>\n",
       "      <td>   54.000000</td>\n",
       "      <td>    6.400000</td>\n",
       "      <td>   19.000000</td>\n",
       "    </tr>\n",
       "    <tr>\n",
       "      <th>75%</th>\n",
       "      <td>    2.000000</td>\n",
       "      <td>   85.000000</td>\n",
       "      <td>   66.000000</td>\n",
       "      <td>   62.000000</td>\n",
       "      <td>    9.200000</td>\n",
       "      <td>   25.000000</td>\n",
       "    </tr>\n",
       "    <tr>\n",
       "      <th>max</th>\n",
       "      <td>    2.000000</td>\n",
       "      <td>  104.000000</td>\n",
       "      <td>   83.000000</td>\n",
       "      <td>   75.000000</td>\n",
       "      <td>   24.100000</td>\n",
       "      <td>   36.000000</td>\n",
       "    </tr>\n",
       "  </tbody>\n",
       "</table>\n",
       "</div>"
      ],
      "text/plain": [
       "           Station         Tmax         Tmin     DewPoint  ResultSpeed  \\\n",
       "count  2944.000000  2944.000000  2944.000000  2944.000000  2944.000000   \n",
       "mean      1.500000    76.166101    57.810462    53.457880     6.960666   \n",
       "std       0.500085    11.461970    10.381939    10.675181     3.587527   \n",
       "min       1.000000    41.000000    29.000000    22.000000     0.100000   \n",
       "25%       1.000000    69.000000    50.000000    46.000000     4.300000   \n",
       "50%       1.500000    78.000000    59.000000    54.000000     6.400000   \n",
       "75%       2.000000    85.000000    66.000000    62.000000     9.200000   \n",
       "max       2.000000   104.000000    83.000000    75.000000    24.100000   \n",
       "\n",
       "         ResultDir  \n",
       "count  2944.000000  \n",
       "mean     17.494905  \n",
       "std      10.063609  \n",
       "min       1.000000  \n",
       "25%       7.000000  \n",
       "50%      19.000000  \n",
       "75%      25.000000  \n",
       "max      36.000000  "
      ]
     },
     "execution_count": 1648,
     "metadata": {},
     "output_type": "execute_result"
    }
   ],
   "source": [
    "weather.head()\n",
    "weather.describe()"
   ]
  },
  {
   "cell_type": "code",
   "execution_count": 1649,
   "metadata": {
    "collapsed": false
   },
   "outputs": [
    {
     "data": {
      "text/plain": [
       "'\\nfrom sklearn.feature_selection import VarianceThreshold\\nsel = VarianceThreshold(threshold=(.9 * (1 - .9)))\\nsel.fit_transform(weather.values)\\nweather.head()\\n'"
      ]
     },
     "execution_count": 1649,
     "metadata": {},
     "output_type": "execute_result"
    }
   ],
   "source": [
    "#SKIP THIS CELL\n",
    "#Tried  to use variance to to eliminate redundant data, but was not successful yet\n",
    "#redundancy was seen when I opened the data in excel\n",
    "#replacing NA data and removing data with low variance\n",
    "#weather = pd.read_csv('weather.csv')\n",
    "#weather_features = weather.fillna(weather.dropna().median()).values\n",
    "\n",
    "'''\n",
    "from sklearn.feature_selection import VarianceThreshold\n",
    "sel = VarianceThreshold(threshold=(.9 * (1 - .9)))\n",
    "sel.fit_transform(weather.values)\n",
    "weather.head()\n",
    "'''"
   ]
  },
  {
   "cell_type": "code",
   "execution_count": 1650,
   "metadata": {
    "collapsed": false
   },
   "outputs": [
    {
     "name": "stdout",
     "output_type": "stream",
     "text": [
      "(10506, 12)\n"
     ]
    },
    {
     "data": {
      "text/plain": [
       "array([0, 1])"
      ]
     },
     "execution_count": 1650,
     "metadata": {},
     "output_type": "execute_result"
    }
   ],
   "source": [
    "print train.shape\n",
    "train['WnvPresent'].unique()"
   ]
  },
  {
   "cell_type": "code",
   "execution_count": 1716,
   "metadata": {
    "collapsed": false
   },
   "outputs": [
    {
     "name": "stdout",
     "output_type": "stream",
     "text": [
      "<class 'pandas.core.frame.DataFrame'>\n",
      "Int64Index: 116293 entries, 0 to 116292\n",
      "Data columns (total 11 columns):\n",
      "Id                        116293 non-null int64\n",
      "Date                      116293 non-null object\n",
      "Address                   116293 non-null object\n",
      "Species                   116293 non-null object\n",
      "Block                     116293 non-null int64\n",
      "Street                    116293 non-null object\n",
      "Trap                      116293 non-null object\n",
      "AddressNumberAndStreet    116293 non-null object\n",
      "Latitude                  116293 non-null float64\n",
      "Longitude                 116293 non-null float64\n",
      "AddressAccuracy           116293 non-null int64\n",
      "dtypes: float64(2), int64(3), object(6)"
     ]
    }
   ],
   "source": [
    "test.head()\n",
    "test.info()"
   ]
  },
  {
   "cell_type": "markdown",
   "metadata": {},
   "source": [
    "# Data Munging"
   ]
  },
  {
   "cell_type": "markdown",
   "metadata": {},
   "source": [
    "So we have 4 sets of data, 3 which we will be using to create the model (spray, weather, and train). I am planning to first merge\n",
    "the weather data set into the training dataset to add weather features to the set. Second I am planning to use the distance between\n",
    "each location and the nearest spray site as another feature to make use of the spray data."
   ]
  },
  {
   "cell_type": "code",
   "execution_count": 2443,
   "metadata": {
    "collapsed": false
   },
   "outputs": [
    {
     "data": {
      "text/html": [
       "<div style=\"max-height:1000px;max-width:1500px;overflow:auto;\">\n",
       "<table border=\"1\" class=\"dataframe\">\n",
       "  <thead>\n",
       "    <tr style=\"text-align: right;\">\n",
       "      <th></th>\n",
       "      <th>Station</th>\n",
       "      <th>Date</th>\n",
       "      <th>Tmax</th>\n",
       "      <th>Tmin</th>\n",
       "      <th>Tavg</th>\n",
       "      <th>Depart</th>\n",
       "      <th>DewPoint</th>\n",
       "      <th>WetBulb</th>\n",
       "      <th>Heat</th>\n",
       "      <th>Cool</th>\n",
       "      <th>...</th>\n",
       "      <th>Water1</th>\n",
       "      <th>SnowFall</th>\n",
       "      <th>PrecipTotal</th>\n",
       "      <th>StnPressure</th>\n",
       "      <th>SeaLevel</th>\n",
       "      <th>ResultSpeed</th>\n",
       "      <th>ResultDir</th>\n",
       "      <th>AvgSpeed</th>\n",
       "      <th>S_lat</th>\n",
       "      <th>S_long</th>\n",
       "    </tr>\n",
       "  </thead>\n",
       "  <tbody>\n",
       "    <tr>\n",
       "      <th>0</th>\n",
       "      <td> 1</td>\n",
       "      <td> 2007-05-01</td>\n",
       "      <td> 83</td>\n",
       "      <td> 50</td>\n",
       "      <td> 67</td>\n",
       "      <td> 14</td>\n",
       "      <td> 51</td>\n",
       "      <td> 56</td>\n",
       "      <td>  0</td>\n",
       "      <td>  2</td>\n",
       "      <td>...</td>\n",
       "      <td> M</td>\n",
       "      <td> 0.0</td>\n",
       "      <td> 0.00</td>\n",
       "      <td> 29.10</td>\n",
       "      <td> 29.82</td>\n",
       "      <td>  1.7</td>\n",
       "      <td> 27</td>\n",
       "      <td>  9.2</td>\n",
       "      <td> 0</td>\n",
       "      <td> 0</td>\n",
       "    </tr>\n",
       "    <tr>\n",
       "      <th>1</th>\n",
       "      <td> 2</td>\n",
       "      <td> 2007-05-01</td>\n",
       "      <td> 84</td>\n",
       "      <td> 52</td>\n",
       "      <td> 68</td>\n",
       "      <td>  M</td>\n",
       "      <td> 51</td>\n",
       "      <td> 57</td>\n",
       "      <td>  0</td>\n",
       "      <td>  3</td>\n",
       "      <td>...</td>\n",
       "      <td> M</td>\n",
       "      <td>   M</td>\n",
       "      <td> 0.00</td>\n",
       "      <td> 29.18</td>\n",
       "      <td> 29.82</td>\n",
       "      <td>  2.7</td>\n",
       "      <td> 25</td>\n",
       "      <td>  9.6</td>\n",
       "      <td> 0</td>\n",
       "      <td> 0</td>\n",
       "    </tr>\n",
       "    <tr>\n",
       "      <th>2</th>\n",
       "      <td> 1</td>\n",
       "      <td> 2007-05-02</td>\n",
       "      <td> 59</td>\n",
       "      <td> 42</td>\n",
       "      <td> 51</td>\n",
       "      <td> -3</td>\n",
       "      <td> 42</td>\n",
       "      <td> 47</td>\n",
       "      <td> 14</td>\n",
       "      <td>  0</td>\n",
       "      <td>...</td>\n",
       "      <td> M</td>\n",
       "      <td> 0.0</td>\n",
       "      <td> 0.00</td>\n",
       "      <td> 29.38</td>\n",
       "      <td> 30.09</td>\n",
       "      <td> 13.0</td>\n",
       "      <td>  4</td>\n",
       "      <td> 13.4</td>\n",
       "      <td> 0</td>\n",
       "      <td> 0</td>\n",
       "    </tr>\n",
       "    <tr>\n",
       "      <th>3</th>\n",
       "      <td> 2</td>\n",
       "      <td> 2007-05-02</td>\n",
       "      <td> 60</td>\n",
       "      <td> 43</td>\n",
       "      <td> 52</td>\n",
       "      <td>  M</td>\n",
       "      <td> 42</td>\n",
       "      <td> 47</td>\n",
       "      <td> 13</td>\n",
       "      <td>  0</td>\n",
       "      <td>...</td>\n",
       "      <td> M</td>\n",
       "      <td>   M</td>\n",
       "      <td> 0.00</td>\n",
       "      <td> 29.44</td>\n",
       "      <td> 30.08</td>\n",
       "      <td> 13.3</td>\n",
       "      <td>  2</td>\n",
       "      <td> 13.4</td>\n",
       "      <td> 0</td>\n",
       "      <td> 0</td>\n",
       "    </tr>\n",
       "    <tr>\n",
       "      <th>4</th>\n",
       "      <td> 1</td>\n",
       "      <td> 2007-05-03</td>\n",
       "      <td> 66</td>\n",
       "      <td> 46</td>\n",
       "      <td> 56</td>\n",
       "      <td>  2</td>\n",
       "      <td> 40</td>\n",
       "      <td> 48</td>\n",
       "      <td>  9</td>\n",
       "      <td>  0</td>\n",
       "      <td>...</td>\n",
       "      <td> M</td>\n",
       "      <td> 0.0</td>\n",
       "      <td> 0.00</td>\n",
       "      <td> 29.39</td>\n",
       "      <td> 30.12</td>\n",
       "      <td> 11.7</td>\n",
       "      <td>  7</td>\n",
       "      <td> 11.9</td>\n",
       "      <td> 0</td>\n",
       "      <td> 0</td>\n",
       "    </tr>\n",
       "  </tbody>\n",
       "</table>\n",
       "<p>5 rows × 24 columns</p>\n",
       "</div>"
      ],
      "text/plain": [
       "   Station        Date  Tmax  Tmin Tavg Depart  DewPoint WetBulb Heat Cool  \\\n",
       "0        1  2007-05-01    83    50   67     14        51      56    0    2   \n",
       "1        2  2007-05-01    84    52   68      M        51      57    0    3   \n",
       "2        1  2007-05-02    59    42   51     -3        42      47   14    0   \n",
       "3        2  2007-05-02    60    43   52      M        42      47   13    0   \n",
       "4        1  2007-05-03    66    46   56      2        40      48    9    0   \n",
       "\n",
       "  ...  Water1 SnowFall PrecipTotal StnPressure SeaLevel ResultSpeed ResultDir  \\\n",
       "0 ...       M      0.0        0.00       29.10    29.82         1.7        27   \n",
       "1 ...       M        M        0.00       29.18    29.82         2.7        25   \n",
       "2 ...       M      0.0        0.00       29.38    30.09        13.0         4   \n",
       "3 ...       M        M        0.00       29.44    30.08        13.3         2   \n",
       "4 ...       M      0.0        0.00       29.39    30.12        11.7         7   \n",
       "\n",
       "  AvgSpeed S_lat  S_long  \n",
       "0      9.2     0       0  \n",
       "1      9.6     0       0  \n",
       "2     13.4     0       0  \n",
       "3     13.4     0       0  \n",
       "4     11.9     0       0  \n",
       "\n",
       "[5 rows x 24 columns]"
      ]
     },
     "execution_count": 2443,
     "metadata": {},
     "output_type": "execute_result"
    }
   ],
   "source": [
    "#Create two new columns of zeroes in the weather dataframe\n",
    "#We will add latitude and longitude of each station to the data set after this\n",
    "weather = pd.read_csv('weather.csv')\n",
    "weather['S_lat'], weather['S_long']  = np.zeros(len(weather.Cool.values)), np.zeros(len(weather.Cool.values))\n",
    "weather.head()"
   ]
  },
  {
   "cell_type": "code",
   "execution_count": 2444,
   "metadata": {
    "collapsed": false
   },
   "outputs": [],
   "source": [
    "#Add latitutde and longitude of each station to the dataset, S1 = Station 1, S2 = Station 2\n",
    "#then map it to the table (station latitude and longitude were provided by Kaggle)\n",
    "S1_lat = 41.995\n",
    "S1_long= -87.933\n",
    "S2_lat= 41.786\n",
    "S2_long=  -87.752\n",
    "for vec in range(len(weather.Station.values)):\n",
    "    if weather.Station[vec] == 1:\n",
    "        weather.S_lat[vec] = S1_lat\n",
    "        weather.S_long[vec] = S1_long\n",
    "    else:\n",
    "        weather.S_lat[vec] = S2_lat\n",
    "        weather.S_long[vec] = S2_long\n",
    "weather = weather[weather.columns[1:]]\n",
    "        \n"
   ]
  },
  {
   "cell_type": "code",
   "execution_count": 2445,
   "metadata": {
    "collapsed": false,
    "scrolled": true
   },
   "outputs": [
    {
     "name": "stdout",
     "output_type": "stream",
     "text": [
      "0    14\n",
      "Name: Depart, dtype: object [' 0' ' 1' ' 2' ' 3' ' 4' ' 5' ' 6' ' 7' ' 8' ' 9' '-1' '-10' '-11' '-12'\n",
      " '-13' '-14' '-15' '-16' '-17' '-2' '-3' '-4' '-5' '-6' '-7' '-8' '-9' '10'\n",
      " '11' '12' '13' '14' '15' '16' '17' '18' '19' '20' '21' '22' '23' 'M']\n",
      "0    56\n",
      "Name: WetBulb, dtype: object ['32' '33' '34' '35' '36' '37' '38' '39' '40' '41' '42' '43' '44' '45' '46'\n",
      " '47' '48' '49' '50' '51' '52' '53' '54' '55' '56' '57' '58' '59' '60' '61'\n",
      " '62' '63' '64' '65' '66' '67' '68' '69' '70' '71' '72' '73' '74' '75' '76'\n",
      " '77' '78' 'M']\n",
      "0    0\n",
      "Name: Heat, dtype: object ['0' '1' '10' '11' '12' '13' '14' '15' '16' '17' '18' '19' '2' '20' '21'\n",
      " '22' '23' '24' '25' '26' '27' '28' '29' '3' '4' '5' '6' '7' '8' '9' 'M']\n",
      "0     2\n",
      "Name: Cool, dtype: object [' 0' ' 1' ' 2' ' 3' ' 4' ' 5' ' 6' ' 7' ' 8' ' 9' '10' '11' '12' '13' '14'\n",
      " '15' '16' '17' '18' '19' '20' '21' '22' '23' '24' '25' '26' '27' '28' '29'\n",
      " 'M']\n",
      "0    0\n",
      "Name: Depth, dtype: object ['0' 'M']\n",
      "0    M\n",
      "Name: Water1, dtype: object ['M']\n",
      "0    0.0\n",
      "Name: SnowFall, dtype: object ['  T' '0.0' '0.1' 'M']\n",
      "0    27\n",
      "Name: ResultDir, dtype: int64 [1 2 3 4 5 6 7 8 9 10 11 12 13 14 15 16 17 18 19 20 21 22 23 24 25 26 27 28\n",
      " 29 30 31 32 33 34 35 36]\n",
      "0    41.995\n",
      "Name: S_lat, dtype: float64 [41.786 41.995]\n",
      "0   -87.933\n",
      "Name: S_long, dtype: float64 [-87.933 -87.752]\n"
     ]
    }
   ],
   "source": [
    "#View unique values of each feature if there are less than 10 unique feature\n",
    "for i in range(len(weather.columns)):\n",
    "    weather_values = weather.values\n",
    "    if len(np.unique(weather_values[:,i])) <50:\n",
    "        print weather[weather.columns[i]].head(1), np.unique(weather_values[:,i])\n"
   ]
  },
  {
   "cell_type": "code",
   "execution_count": 2446,
   "metadata": {
    "collapsed": false
   },
   "outputs": [],
   "source": [
    "#Water1 is all empty so eliminate the column, also eliminate CodeSum since the other parameters already account for it\n",
    "weather = weather.drop(['Water1','Depth','CodeSum'],1)\n"
   ]
  },
  {
   "cell_type": "code",
   "execution_count": 2447,
   "metadata": {
    "collapsed": false,
    "scrolled": true
   },
   "outputs": [
    {
     "data": {
      "text/html": [
       "<div style=\"max-height:1000px;max-width:1500px;overflow:auto;\">\n",
       "<table border=\"1\" class=\"dataframe\">\n",
       "  <thead>\n",
       "    <tr style=\"text-align: right;\">\n",
       "      <th></th>\n",
       "      <th>Date</th>\n",
       "      <th>Tmax</th>\n",
       "      <th>Tmin</th>\n",
       "      <th>Tavg</th>\n",
       "      <th>Depart</th>\n",
       "      <th>DewPoint</th>\n",
       "      <th>WetBulb</th>\n",
       "      <th>Heat</th>\n",
       "      <th>Cool</th>\n",
       "      <th>Sunrise</th>\n",
       "      <th>Sunset</th>\n",
       "      <th>SnowFall</th>\n",
       "      <th>PrecipTotal</th>\n",
       "      <th>StnPressure</th>\n",
       "      <th>SeaLevel</th>\n",
       "      <th>ResultSpeed</th>\n",
       "      <th>ResultDir</th>\n",
       "      <th>AvgSpeed</th>\n",
       "      <th>S_lat</th>\n",
       "      <th>S_long</th>\n",
       "    </tr>\n",
       "  </thead>\n",
       "  <tbody>\n",
       "    <tr>\n",
       "      <th>0</th>\n",
       "      <td> 2007-05-01</td>\n",
       "      <td> 83</td>\n",
       "      <td> 50</td>\n",
       "      <td> 67</td>\n",
       "      <td> 14</td>\n",
       "      <td> 51</td>\n",
       "      <td> 56</td>\n",
       "      <td>  0</td>\n",
       "      <td>  2</td>\n",
       "      <td> 0448</td>\n",
       "      <td> 1849</td>\n",
       "      <td> 0.0</td>\n",
       "      <td> 0.00</td>\n",
       "      <td> 29.10</td>\n",
       "      <td> 29.82</td>\n",
       "      <td>  1.7</td>\n",
       "      <td> 27</td>\n",
       "      <td>  9.2</td>\n",
       "      <td> 41.995</td>\n",
       "      <td>-87.933</td>\n",
       "    </tr>\n",
       "    <tr>\n",
       "      <th>1</th>\n",
       "      <td> 2007-05-01</td>\n",
       "      <td> 84</td>\n",
       "      <td> 52</td>\n",
       "      <td> 68</td>\n",
       "      <td>  M</td>\n",
       "      <td> 51</td>\n",
       "      <td> 57</td>\n",
       "      <td>  0</td>\n",
       "      <td>  3</td>\n",
       "      <td>    -</td>\n",
       "      <td>    -</td>\n",
       "      <td>   M</td>\n",
       "      <td> 0.00</td>\n",
       "      <td> 29.18</td>\n",
       "      <td> 29.82</td>\n",
       "      <td>  2.7</td>\n",
       "      <td> 25</td>\n",
       "      <td>  9.6</td>\n",
       "      <td> 41.786</td>\n",
       "      <td>-87.752</td>\n",
       "    </tr>\n",
       "    <tr>\n",
       "      <th>2</th>\n",
       "      <td> 2007-05-02</td>\n",
       "      <td> 59</td>\n",
       "      <td> 42</td>\n",
       "      <td> 51</td>\n",
       "      <td> -3</td>\n",
       "      <td> 42</td>\n",
       "      <td> 47</td>\n",
       "      <td> 14</td>\n",
       "      <td>  0</td>\n",
       "      <td> 0447</td>\n",
       "      <td> 1850</td>\n",
       "      <td> 0.0</td>\n",
       "      <td> 0.00</td>\n",
       "      <td> 29.38</td>\n",
       "      <td> 30.09</td>\n",
       "      <td> 13.0</td>\n",
       "      <td>  4</td>\n",
       "      <td> 13.4</td>\n",
       "      <td> 41.995</td>\n",
       "      <td>-87.933</td>\n",
       "    </tr>\n",
       "    <tr>\n",
       "      <th>3</th>\n",
       "      <td> 2007-05-02</td>\n",
       "      <td> 60</td>\n",
       "      <td> 43</td>\n",
       "      <td> 52</td>\n",
       "      <td>  M</td>\n",
       "      <td> 42</td>\n",
       "      <td> 47</td>\n",
       "      <td> 13</td>\n",
       "      <td>  0</td>\n",
       "      <td>    -</td>\n",
       "      <td>    -</td>\n",
       "      <td>   M</td>\n",
       "      <td> 0.00</td>\n",
       "      <td> 29.44</td>\n",
       "      <td> 30.08</td>\n",
       "      <td> 13.3</td>\n",
       "      <td>  2</td>\n",
       "      <td> 13.4</td>\n",
       "      <td> 41.786</td>\n",
       "      <td>-87.752</td>\n",
       "    </tr>\n",
       "    <tr>\n",
       "      <th>4</th>\n",
       "      <td> 2007-05-03</td>\n",
       "      <td> 66</td>\n",
       "      <td> 46</td>\n",
       "      <td> 56</td>\n",
       "      <td>  2</td>\n",
       "      <td> 40</td>\n",
       "      <td> 48</td>\n",
       "      <td>  9</td>\n",
       "      <td>  0</td>\n",
       "      <td> 0446</td>\n",
       "      <td> 1851</td>\n",
       "      <td> 0.0</td>\n",
       "      <td> 0.00</td>\n",
       "      <td> 29.39</td>\n",
       "      <td> 30.12</td>\n",
       "      <td> 11.7</td>\n",
       "      <td>  7</td>\n",
       "      <td> 11.9</td>\n",
       "      <td> 41.995</td>\n",
       "      <td>-87.933</td>\n",
       "    </tr>\n",
       "  </tbody>\n",
       "</table>\n",
       "</div>"
      ],
      "text/plain": [
       "         Date  Tmax  Tmin Tavg Depart  DewPoint WetBulb Heat Cool Sunrise  \\\n",
       "0  2007-05-01    83    50   67     14        51      56    0    2    0448   \n",
       "1  2007-05-01    84    52   68      M        51      57    0    3       -   \n",
       "2  2007-05-02    59    42   51     -3        42      47   14    0    0447   \n",
       "3  2007-05-02    60    43   52      M        42      47   13    0       -   \n",
       "4  2007-05-03    66    46   56      2        40      48    9    0    0446   \n",
       "\n",
       "  Sunset SnowFall PrecipTotal StnPressure SeaLevel  ResultSpeed  ResultDir  \\\n",
       "0   1849      0.0        0.00       29.10    29.82          1.7         27   \n",
       "1      -        M        0.00       29.18    29.82          2.7         25   \n",
       "2   1850      0.0        0.00       29.38    30.09         13.0          4   \n",
       "3      -        M        0.00       29.44    30.08         13.3          2   \n",
       "4   1851      0.0        0.00       29.39    30.12         11.7          7   \n",
       "\n",
       "  AvgSpeed   S_lat  S_long  \n",
       "0      9.2  41.995 -87.933  \n",
       "1      9.6  41.786 -87.752  \n",
       "2     13.4  41.995 -87.933  \n",
       "3     13.4  41.786 -87.752  \n",
       "4     11.9  41.995 -87.933  "
      ]
     },
     "execution_count": 2447,
     "metadata": {},
     "output_type": "execute_result"
    }
   ],
   "source": [
    "#before replacing values\n",
    "weather.head()"
   ]
  },
  {
   "cell_type": "code",
   "execution_count": 2448,
   "metadata": {
    "collapsed": false,
    "scrolled": true
   },
   "outputs": [
    {
     "data": {
      "text/html": [
       "<div style=\"max-height:1000px;max-width:1500px;overflow:auto;\">\n",
       "<table border=\"1\" class=\"dataframe\">\n",
       "  <thead>\n",
       "    <tr style=\"text-align: right;\">\n",
       "      <th></th>\n",
       "      <th>Date</th>\n",
       "      <th>Tmax</th>\n",
       "      <th>Tmin</th>\n",
       "      <th>Tavg</th>\n",
       "      <th>Depart</th>\n",
       "      <th>DewPoint</th>\n",
       "      <th>WetBulb</th>\n",
       "      <th>Heat</th>\n",
       "      <th>Cool</th>\n",
       "      <th>Sunrise</th>\n",
       "      <th>Sunset</th>\n",
       "      <th>SnowFall</th>\n",
       "      <th>PrecipTotal</th>\n",
       "      <th>StnPressure</th>\n",
       "      <th>SeaLevel</th>\n",
       "      <th>ResultSpeed</th>\n",
       "      <th>ResultDir</th>\n",
       "      <th>AvgSpeed</th>\n",
       "      <th>S_lat</th>\n",
       "      <th>S_long</th>\n",
       "    </tr>\n",
       "  </thead>\n",
       "  <tbody>\n",
       "    <tr>\n",
       "      <th>0</th>\n",
       "      <td> 2007-05-01</td>\n",
       "      <td> 83</td>\n",
       "      <td> 50</td>\n",
       "      <td> 67</td>\n",
       "      <td>  14</td>\n",
       "      <td> 51</td>\n",
       "      <td> 56</td>\n",
       "      <td>  0</td>\n",
       "      <td>  2</td>\n",
       "      <td> 0448</td>\n",
       "      <td> 1849</td>\n",
       "      <td> 0.0</td>\n",
       "      <td> 0.00</td>\n",
       "      <td> 29.10</td>\n",
       "      <td> 29.82</td>\n",
       "      <td>  1.7</td>\n",
       "      <td> 27</td>\n",
       "      <td>  9.2</td>\n",
       "      <td> 41.995</td>\n",
       "      <td>-87.933</td>\n",
       "    </tr>\n",
       "    <tr>\n",
       "      <th>1</th>\n",
       "      <td> 2007-05-01</td>\n",
       "      <td> 84</td>\n",
       "      <td> 52</td>\n",
       "      <td> 68</td>\n",
       "      <td> NaN</td>\n",
       "      <td> 51</td>\n",
       "      <td> 57</td>\n",
       "      <td>  0</td>\n",
       "      <td>  3</td>\n",
       "      <td>  NaN</td>\n",
       "      <td>  NaN</td>\n",
       "      <td> NaN</td>\n",
       "      <td> 0.00</td>\n",
       "      <td> 29.18</td>\n",
       "      <td> 29.82</td>\n",
       "      <td>  2.7</td>\n",
       "      <td> 25</td>\n",
       "      <td>  9.6</td>\n",
       "      <td> 41.786</td>\n",
       "      <td>-87.752</td>\n",
       "    </tr>\n",
       "    <tr>\n",
       "      <th>2</th>\n",
       "      <td> 2007-05-02</td>\n",
       "      <td> 59</td>\n",
       "      <td> 42</td>\n",
       "      <td> 51</td>\n",
       "      <td>  -3</td>\n",
       "      <td> 42</td>\n",
       "      <td> 47</td>\n",
       "      <td> 14</td>\n",
       "      <td>  0</td>\n",
       "      <td> 0447</td>\n",
       "      <td> 1850</td>\n",
       "      <td> 0.0</td>\n",
       "      <td> 0.00</td>\n",
       "      <td> 29.38</td>\n",
       "      <td> 30.09</td>\n",
       "      <td> 13.0</td>\n",
       "      <td>  4</td>\n",
       "      <td> 13.4</td>\n",
       "      <td> 41.995</td>\n",
       "      <td>-87.933</td>\n",
       "    </tr>\n",
       "    <tr>\n",
       "      <th>3</th>\n",
       "      <td> 2007-05-02</td>\n",
       "      <td> 60</td>\n",
       "      <td> 43</td>\n",
       "      <td> 52</td>\n",
       "      <td> NaN</td>\n",
       "      <td> 42</td>\n",
       "      <td> 47</td>\n",
       "      <td> 13</td>\n",
       "      <td>  0</td>\n",
       "      <td>  NaN</td>\n",
       "      <td>  NaN</td>\n",
       "      <td> NaN</td>\n",
       "      <td> 0.00</td>\n",
       "      <td> 29.44</td>\n",
       "      <td> 30.08</td>\n",
       "      <td> 13.3</td>\n",
       "      <td>  2</td>\n",
       "      <td> 13.4</td>\n",
       "      <td> 41.786</td>\n",
       "      <td>-87.752</td>\n",
       "    </tr>\n",
       "    <tr>\n",
       "      <th>4</th>\n",
       "      <td> 2007-05-03</td>\n",
       "      <td> 66</td>\n",
       "      <td> 46</td>\n",
       "      <td> 56</td>\n",
       "      <td>   2</td>\n",
       "      <td> 40</td>\n",
       "      <td> 48</td>\n",
       "      <td>  9</td>\n",
       "      <td>  0</td>\n",
       "      <td> 0446</td>\n",
       "      <td> 1851</td>\n",
       "      <td> 0.0</td>\n",
       "      <td> 0.00</td>\n",
       "      <td> 29.39</td>\n",
       "      <td> 30.12</td>\n",
       "      <td> 11.7</td>\n",
       "      <td>  7</td>\n",
       "      <td> 11.9</td>\n",
       "      <td> 41.995</td>\n",
       "      <td>-87.933</td>\n",
       "    </tr>\n",
       "  </tbody>\n",
       "</table>\n",
       "</div>"
      ],
      "text/plain": [
       "         Date  Tmax  Tmin Tavg Depart  DewPoint WetBulb Heat Cool Sunrise  \\\n",
       "0  2007-05-01    83    50   67     14        51      56    0    2    0448   \n",
       "1  2007-05-01    84    52   68    NaN        51      57    0    3     NaN   \n",
       "2  2007-05-02    59    42   51     -3        42      47   14    0    0447   \n",
       "3  2007-05-02    60    43   52    NaN        42      47   13    0     NaN   \n",
       "4  2007-05-03    66    46   56      2        40      48    9    0    0446   \n",
       "\n",
       "  Sunset SnowFall PrecipTotal StnPressure SeaLevel  ResultSpeed  ResultDir  \\\n",
       "0   1849      0.0        0.00       29.10    29.82          1.7         27   \n",
       "1    NaN      NaN        0.00       29.18    29.82          2.7         25   \n",
       "2   1850      0.0        0.00       29.38    30.09         13.0          4   \n",
       "3    NaN      NaN        0.00       29.44    30.08         13.3          2   \n",
       "4   1851      0.0        0.00       29.39    30.12         11.7          7   \n",
       "\n",
       "  AvgSpeed   S_lat  S_long  \n",
       "0      9.2  41.995 -87.933  \n",
       "1      9.6  41.786 -87.752  \n",
       "2     13.4  41.995 -87.933  \n",
       "3     13.4  41.786 -87.752  \n",
       "4     11.9  41.995 -87.933  "
      ]
     },
     "execution_count": 2448,
     "metadata": {},
     "output_type": "execute_result"
    }
   ],
   "source": [
    "#Replace M, space, and - with NA\n",
    "weather= weather.replace(['M','-', ' ','  T','-inf'], [np.nan, np.nan, np.nan,0.0,np.nan])\n",
    "weather.head()"
   ]
  },
  {
   "cell_type": "code",
   "execution_count": 2449,
   "metadata": {
    "collapsed": false,
    "scrolled": true
   },
   "outputs": [
    {
     "name": "stdout",
     "output_type": "stream",
     "text": [
      "(2944, 20)\n",
      "(1464, 20)\n"
     ]
    },
    {
     "data": {
      "text/html": [
       "<div style=\"max-height:1000px;max-width:1500px;overflow:auto;\">\n",
       "<table border=\"1\" class=\"dataframe\">\n",
       "  <thead>\n",
       "    <tr style=\"text-align: right;\">\n",
       "      <th></th>\n",
       "      <th>Date</th>\n",
       "      <th>Tmax</th>\n",
       "      <th>Tmin</th>\n",
       "      <th>Tavg</th>\n",
       "      <th>Depart</th>\n",
       "      <th>DewPoint</th>\n",
       "      <th>WetBulb</th>\n",
       "      <th>Heat</th>\n",
       "      <th>Cool</th>\n",
       "      <th>Sunrise</th>\n",
       "      <th>Sunset</th>\n",
       "      <th>SnowFall</th>\n",
       "      <th>PrecipTotal</th>\n",
       "      <th>StnPressure</th>\n",
       "      <th>SeaLevel</th>\n",
       "      <th>ResultSpeed</th>\n",
       "      <th>ResultDir</th>\n",
       "      <th>AvgSpeed</th>\n",
       "      <th>S_lat</th>\n",
       "      <th>S_long</th>\n",
       "    </tr>\n",
       "  </thead>\n",
       "  <tbody>\n",
       "    <tr>\n",
       "      <th>0 </th>\n",
       "      <td> 2007-05-01</td>\n",
       "      <td> 83</td>\n",
       "      <td> 50</td>\n",
       "      <td> 67</td>\n",
       "      <td> 14</td>\n",
       "      <td> 51</td>\n",
       "      <td> 56</td>\n",
       "      <td>  0</td>\n",
       "      <td>  2</td>\n",
       "      <td> 0448</td>\n",
       "      <td> 1849</td>\n",
       "      <td> 0.0</td>\n",
       "      <td> 0.00</td>\n",
       "      <td> 29.10</td>\n",
       "      <td> 29.82</td>\n",
       "      <td>  1.7</td>\n",
       "      <td> 27</td>\n",
       "      <td>  9.2</td>\n",
       "      <td> 41.995</td>\n",
       "      <td>-87.933</td>\n",
       "    </tr>\n",
       "    <tr>\n",
       "      <th>2 </th>\n",
       "      <td> 2007-05-02</td>\n",
       "      <td> 59</td>\n",
       "      <td> 42</td>\n",
       "      <td> 51</td>\n",
       "      <td> -3</td>\n",
       "      <td> 42</td>\n",
       "      <td> 47</td>\n",
       "      <td> 14</td>\n",
       "      <td>  0</td>\n",
       "      <td> 0447</td>\n",
       "      <td> 1850</td>\n",
       "      <td> 0.0</td>\n",
       "      <td> 0.00</td>\n",
       "      <td> 29.38</td>\n",
       "      <td> 30.09</td>\n",
       "      <td> 13.0</td>\n",
       "      <td>  4</td>\n",
       "      <td> 13.4</td>\n",
       "      <td> 41.995</td>\n",
       "      <td>-87.933</td>\n",
       "    </tr>\n",
       "    <tr>\n",
       "      <th>4 </th>\n",
       "      <td> 2007-05-03</td>\n",
       "      <td> 66</td>\n",
       "      <td> 46</td>\n",
       "      <td> 56</td>\n",
       "      <td>  2</td>\n",
       "      <td> 40</td>\n",
       "      <td> 48</td>\n",
       "      <td>  9</td>\n",
       "      <td>  0</td>\n",
       "      <td> 0446</td>\n",
       "      <td> 1851</td>\n",
       "      <td> 0.0</td>\n",
       "      <td> 0.00</td>\n",
       "      <td> 29.39</td>\n",
       "      <td> 30.12</td>\n",
       "      <td> 11.7</td>\n",
       "      <td>  7</td>\n",
       "      <td> 11.9</td>\n",
       "      <td> 41.995</td>\n",
       "      <td>-87.933</td>\n",
       "    </tr>\n",
       "    <tr>\n",
       "      <th>6 </th>\n",
       "      <td> 2007-05-04</td>\n",
       "      <td> 66</td>\n",
       "      <td> 49</td>\n",
       "      <td> 58</td>\n",
       "      <td>  4</td>\n",
       "      <td> 41</td>\n",
       "      <td> 50</td>\n",
       "      <td>  7</td>\n",
       "      <td>  0</td>\n",
       "      <td> 0444</td>\n",
       "      <td> 1852</td>\n",
       "      <td> 0.0</td>\n",
       "      <td>    0</td>\n",
       "      <td> 29.31</td>\n",
       "      <td> 30.05</td>\n",
       "      <td> 10.4</td>\n",
       "      <td>  8</td>\n",
       "      <td> 10.8</td>\n",
       "      <td> 41.995</td>\n",
       "      <td>-87.933</td>\n",
       "    </tr>\n",
       "    <tr>\n",
       "      <th>8 </th>\n",
       "      <td> 2007-05-05</td>\n",
       "      <td> 66</td>\n",
       "      <td> 53</td>\n",
       "      <td> 60</td>\n",
       "      <td>  5</td>\n",
       "      <td> 38</td>\n",
       "      <td> 49</td>\n",
       "      <td>  5</td>\n",
       "      <td>  0</td>\n",
       "      <td> 0443</td>\n",
       "      <td> 1853</td>\n",
       "      <td> 0.0</td>\n",
       "      <td>    0</td>\n",
       "      <td> 29.40</td>\n",
       "      <td> 30.10</td>\n",
       "      <td> 11.7</td>\n",
       "      <td>  7</td>\n",
       "      <td> 12.0</td>\n",
       "      <td> 41.995</td>\n",
       "      <td>-87.933</td>\n",
       "    </tr>\n",
       "    <tr>\n",
       "      <th>10</th>\n",
       "      <td> 2007-05-06</td>\n",
       "      <td> 68</td>\n",
       "      <td> 49</td>\n",
       "      <td> 59</td>\n",
       "      <td>  4</td>\n",
       "      <td> 30</td>\n",
       "      <td> 46</td>\n",
       "      <td>  6</td>\n",
       "      <td>  0</td>\n",
       "      <td> 0442</td>\n",
       "      <td> 1855</td>\n",
       "      <td> 0.0</td>\n",
       "      <td> 0.00</td>\n",
       "      <td> 29.57</td>\n",
       "      <td> 30.29</td>\n",
       "      <td> 14.4</td>\n",
       "      <td> 11</td>\n",
       "      <td> 15.0</td>\n",
       "      <td> 41.995</td>\n",
       "      <td>-87.933</td>\n",
       "    </tr>\n",
       "  </tbody>\n",
       "</table>\n",
       "</div>"
      ],
      "text/plain": [
       "          Date  Tmax  Tmin Tavg Depart  DewPoint WetBulb Heat Cool Sunrise  \\\n",
       "0   2007-05-01    83    50   67     14        51      56    0    2    0448   \n",
       "2   2007-05-02    59    42   51     -3        42      47   14    0    0447   \n",
       "4   2007-05-03    66    46   56      2        40      48    9    0    0446   \n",
       "6   2007-05-04    66    49   58      4        41      50    7    0    0444   \n",
       "8   2007-05-05    66    53   60      5        38      49    5    0    0443   \n",
       "10  2007-05-06    68    49   59      4        30      46    6    0    0442   \n",
       "\n",
       "   Sunset SnowFall PrecipTotal StnPressure SeaLevel  ResultSpeed  ResultDir  \\\n",
       "0    1849      0.0        0.00       29.10    29.82          1.7         27   \n",
       "2    1850      0.0        0.00       29.38    30.09         13.0          4   \n",
       "4    1851      0.0        0.00       29.39    30.12         11.7          7   \n",
       "6    1852      0.0           0       29.31    30.05         10.4          8   \n",
       "8    1853      0.0           0       29.40    30.10         11.7          7   \n",
       "10   1855      0.0        0.00       29.57    30.29         14.4         11   \n",
       "\n",
       "   AvgSpeed   S_lat  S_long  \n",
       "0       9.2  41.995 -87.933  \n",
       "2      13.4  41.995 -87.933  \n",
       "4      11.9  41.995 -87.933  \n",
       "6      10.8  41.995 -87.933  \n",
       "8      12.0  41.995 -87.933  \n",
       "10     15.0  41.995 -87.933  "
      ]
     },
     "execution_count": 2449,
     "metadata": {},
     "output_type": "execute_result"
    }
   ],
   "source": [
    "#dropna\n",
    "print weather.shape\n",
    "weather_na = weather.dropna(0)\n",
    "print weather_na.shape\n",
    "weather_features = weather.columns\n",
    "\n",
    "#if we dropna we lose a lot of data ~half\n",
    "weather_na.head(6)"
   ]
  },
  {
   "cell_type": "code",
   "execution_count": 2450,
   "metadata": {
    "collapsed": false
   },
   "outputs": [],
   "source": [
    "weather_values = weather_na.values\n",
    "weather_features = weather_na.columns\n",
    "np.mean(weather_values[:,2])\n",
    "weather_values = weather_values[:,1:]\n"
   ]
  },
  {
   "cell_type": "code",
   "execution_count": 2451,
   "metadata": {
    "collapsed": false
   },
   "outputs": [
    {
     "data": {
      "text/plain": [
       "'\\n#centering the data\\nfor c in range(len(weather_na.columns)-1):\\n    for r in weather.index:\\n        weather_values[r][c]= weather_values[r][c]- weather_na.mean()[c+1]\\n'"
      ]
     },
     "execution_count": 2451,
     "metadata": {},
     "output_type": "execute_result"
    }
   ],
   "source": [
    "\"\"\"\n",
    "#centering the data\n",
    "for c in range(len(weather_na.columns)-1):\n",
    "    for r in weather.index:\n",
    "        weather_values[r][c]= weather_values[r][c]- weather_na.mean()[c+1]\n",
    "\"\"\""
   ]
  },
  {
   "cell_type": "code",
   "execution_count": 2452,
   "metadata": {
    "collapsed": false
   },
   "outputs": [
    {
     "data": {
      "text/plain": [
       "array([-1.0009539 , -1.00049159, -1.00024441, ...,  2.30201739,\n",
       "        2.30374175,  2.30927813])"
      ]
     },
     "execution_count": 2452,
     "metadata": {},
     "output_type": "execute_result"
    }
   ],
   "source": [
    "# PCA on weather data\n",
    "from sklearn.decomposition import PCA\n",
    "pca_n2 = PCA(n_components = .8, whiten = True)\n",
    "weather_transform = pca_n2.fit_transform(weather_na[weather_features[1:]])\n",
    "np.unique(weather_transform)\n",
    "\n",
    "\n"
   ]
  },
  {
   "cell_type": "code",
   "execution_count": 2453,
   "metadata": {
    "collapsed": true
   },
   "outputs": [],
   "source": [
    "#Center the data\n",
    "for vec in range(len(weather_transform)):\n",
    "    weather_transform[vec] = weather_transform[vec] - np.mean(weather_transform)"
   ]
  },
  {
   "cell_type": "code",
   "execution_count": 2454,
   "metadata": {
    "collapsed": false
   },
   "outputs": [
    {
     "data": {
      "text/plain": [
       "array([-1.0009539 , -1.00049159, -1.00024441, ...,  2.30201739,\n",
       "        2.30374175,  2.30927813])"
      ]
     },
     "execution_count": 2454,
     "metadata": {},
     "output_type": "execute_result"
    }
   ],
   "source": [
    "np.unique(weather_transform)"
   ]
  },
  {
   "cell_type": "code",
   "execution_count": 2455,
   "metadata": {
    "collapsed": false
   },
   "outputs": [
    {
     "data": {
      "text/plain": [
       "array([ 93.82901034])"
      ]
     },
     "execution_count": 2455,
     "metadata": {},
     "output_type": "execute_result"
    }
   ],
   "source": [
    "#Check variance\n",
    "(pca_n2.explained_variance_ratio_) * 100"
   ]
  },
  {
   "cell_type": "code",
   "execution_count": 2456,
   "metadata": {
    "collapsed": false
   },
   "outputs": [
    {
     "ename": "ValueError",
     "evalue": "Length of values does not match length of index",
     "output_type": "error",
     "traceback": [
      "\u001b[1;31m---------------------------------------------------------------------------\u001b[0m",
      "\u001b[1;31mValueError\u001b[0m                                Traceback (most recent call last)",
      "\u001b[1;32m<ipython-input-2456-6f3277765ad4>\u001b[0m in \u001b[0;36m<module>\u001b[1;34m()\u001b[0m\n\u001b[1;32m----> 1\u001b[1;33m \u001b[0mweather\u001b[0m\u001b[1;33m[\u001b[0m\u001b[1;34m'Weather Effect'\u001b[0m\u001b[1;33m]\u001b[0m \u001b[1;33m=\u001b[0m \u001b[0mweather_transform\u001b[0m\u001b[1;33m\u001b[0m\u001b[0m\n\u001b[0m\u001b[0;32m      2\u001b[0m \u001b[0mweather_new\u001b[0m \u001b[1;33m=\u001b[0m \u001b[0mweather\u001b[0m\u001b[1;33m[\u001b[0m\u001b[1;33m[\u001b[0m\u001b[1;34m'Date'\u001b[0m\u001b[1;33m,\u001b[0m\u001b[1;34m'Weather Effect'\u001b[0m\u001b[1;33m,\u001b[0m\u001b[1;34m'S_lat'\u001b[0m\u001b[1;33m,\u001b[0m\u001b[1;34m'S_long'\u001b[0m\u001b[1;33m]\u001b[0m\u001b[1;33m]\u001b[0m\u001b[1;33m\u001b[0m\u001b[0m\n\u001b[0;32m      3\u001b[0m \u001b[0mweather_new\u001b[0m\u001b[1;33m.\u001b[0m\u001b[0mshape\u001b[0m\u001b[1;33m\u001b[0m\u001b[0m\n",
      "\u001b[1;32m/home/jerd/ENTER/lib/python2.7/site-packages/pandas/core/frame.pyc\u001b[0m in \u001b[0;36m__setitem__\u001b[1;34m(self, key, value)\u001b[0m\n\u001b[0;32m   2005\u001b[0m         \u001b[1;32melse\u001b[0m\u001b[1;33m:\u001b[0m\u001b[1;33m\u001b[0m\u001b[0m\n\u001b[0;32m   2006\u001b[0m             \u001b[1;31m# set column\u001b[0m\u001b[1;33m\u001b[0m\u001b[1;33m\u001b[0m\u001b[0m\n\u001b[1;32m-> 2007\u001b[1;33m             \u001b[0mself\u001b[0m\u001b[1;33m.\u001b[0m\u001b[0m_set_item\u001b[0m\u001b[1;33m(\u001b[0m\u001b[0mkey\u001b[0m\u001b[1;33m,\u001b[0m \u001b[0mvalue\u001b[0m\u001b[1;33m)\u001b[0m\u001b[1;33m\u001b[0m\u001b[0m\n\u001b[0m\u001b[0;32m   2008\u001b[0m \u001b[1;33m\u001b[0m\u001b[0m\n\u001b[0;32m   2009\u001b[0m     \u001b[1;32mdef\u001b[0m \u001b[0m_setitem_slice\u001b[0m\u001b[1;33m(\u001b[0m\u001b[0mself\u001b[0m\u001b[1;33m,\u001b[0m \u001b[0mkey\u001b[0m\u001b[1;33m,\u001b[0m \u001b[0mvalue\u001b[0m\u001b[1;33m)\u001b[0m\u001b[1;33m:\u001b[0m\u001b[1;33m\u001b[0m\u001b[0m\n",
      "\u001b[1;32m/home/jerd/ENTER/lib/python2.7/site-packages/pandas/core/frame.pyc\u001b[0m in \u001b[0;36m_set_item\u001b[1;34m(self, key, value)\u001b[0m\n\u001b[0;32m   2083\u001b[0m         \u001b[0mis_existing\u001b[0m \u001b[1;33m=\u001b[0m \u001b[0mkey\u001b[0m \u001b[1;32min\u001b[0m \u001b[0mself\u001b[0m\u001b[1;33m.\u001b[0m\u001b[0mcolumns\u001b[0m\u001b[1;33m\u001b[0m\u001b[0m\n\u001b[0;32m   2084\u001b[0m         \u001b[0mself\u001b[0m\u001b[1;33m.\u001b[0m\u001b[0m_ensure_valid_index\u001b[0m\u001b[1;33m(\u001b[0m\u001b[0mvalue\u001b[0m\u001b[1;33m)\u001b[0m\u001b[1;33m\u001b[0m\u001b[0m\n\u001b[1;32m-> 2085\u001b[1;33m         \u001b[0mvalue\u001b[0m \u001b[1;33m=\u001b[0m \u001b[0mself\u001b[0m\u001b[1;33m.\u001b[0m\u001b[0m_sanitize_column\u001b[0m\u001b[1;33m(\u001b[0m\u001b[0mkey\u001b[0m\u001b[1;33m,\u001b[0m \u001b[0mvalue\u001b[0m\u001b[1;33m)\u001b[0m\u001b[1;33m\u001b[0m\u001b[0m\n\u001b[0m\u001b[0;32m   2086\u001b[0m         \u001b[0mNDFrame\u001b[0m\u001b[1;33m.\u001b[0m\u001b[0m_set_item\u001b[0m\u001b[1;33m(\u001b[0m\u001b[0mself\u001b[0m\u001b[1;33m,\u001b[0m \u001b[0mkey\u001b[0m\u001b[1;33m,\u001b[0m \u001b[0mvalue\u001b[0m\u001b[1;33m)\u001b[0m\u001b[1;33m\u001b[0m\u001b[0m\n\u001b[0;32m   2087\u001b[0m \u001b[1;33m\u001b[0m\u001b[0m\n",
      "\u001b[1;32m/home/jerd/ENTER/lib/python2.7/site-packages/pandas/core/frame.pyc\u001b[0m in \u001b[0;36m_sanitize_column\u001b[1;34m(self, key, value)\u001b[0m\n\u001b[0;32m   2139\u001b[0m         \u001b[1;32melif\u001b[0m \u001b[0misinstance\u001b[0m\u001b[1;33m(\u001b[0m\u001b[0mvalue\u001b[0m\u001b[1;33m,\u001b[0m \u001b[0mIndex\u001b[0m\u001b[1;33m)\u001b[0m \u001b[1;32mor\u001b[0m \u001b[0m_is_sequence\u001b[0m\u001b[1;33m(\u001b[0m\u001b[0mvalue\u001b[0m\u001b[1;33m)\u001b[0m\u001b[1;33m:\u001b[0m\u001b[1;33m\u001b[0m\u001b[0m\n\u001b[0;32m   2140\u001b[0m             \u001b[1;32mif\u001b[0m \u001b[0mlen\u001b[0m\u001b[1;33m(\u001b[0m\u001b[0mvalue\u001b[0m\u001b[1;33m)\u001b[0m \u001b[1;33m!=\u001b[0m \u001b[0mlen\u001b[0m\u001b[1;33m(\u001b[0m\u001b[0mself\u001b[0m\u001b[1;33m.\u001b[0m\u001b[0mindex\u001b[0m\u001b[1;33m)\u001b[0m\u001b[1;33m:\u001b[0m\u001b[1;33m\u001b[0m\u001b[0m\n\u001b[1;32m-> 2141\u001b[1;33m                 raise ValueError('Length of values does not match length of '\n\u001b[0m\u001b[0;32m   2142\u001b[0m                                  'index')\n\u001b[0;32m   2143\u001b[0m \u001b[1;33m\u001b[0m\u001b[0m\n",
      "\u001b[1;31mValueError\u001b[0m: Length of values does not match length of index"
     ]
    }
   ],
   "source": [
    "weather['Weather Effect'] = weather_transform\n",
    "weather_new = weather[['Date','Weather Effect','S_lat','S_long']]\n",
    "weather_new.shape"
   ]
  },
  {
   "cell_type": "code",
   "execution_count": 2458,
   "metadata": {
    "collapsed": false
   },
   "outputs": [
    {
     "name": "stdout",
     "output_type": "stream",
     "text": [
      "(10413, 15)\n"
     ]
    },
    {
     "data": {
      "text/html": [
       "<div style=\"max-height:1000px;max-width:1500px;overflow:auto;\">\n",
       "<table border=\"1\" class=\"dataframe\">\n",
       "  <thead>\n",
       "    <tr style=\"text-align: right;\">\n",
       "      <th></th>\n",
       "      <th>Date</th>\n",
       "      <th>Address</th>\n",
       "      <th>Species</th>\n",
       "      <th>Block</th>\n",
       "      <th>Street</th>\n",
       "      <th>Trap</th>\n",
       "      <th>AddressNumberAndStreet</th>\n",
       "      <th>Latitude</th>\n",
       "      <th>Longitude</th>\n",
       "      <th>AddressAccuracy</th>\n",
       "      <th>NumMosquitos</th>\n",
       "      <th>WnvPresent</th>\n",
       "      <th>Weather Effect</th>\n",
       "      <th>S_lat</th>\n",
       "      <th>S_long</th>\n",
       "    </tr>\n",
       "  </thead>\n",
       "  <tbody>\n",
       "    <tr>\n",
       "      <th>0</th>\n",
       "      <td> 2007-05-29</td>\n",
       "      <td> 4100 North Oak Park Avenue, Chicago, IL 60634,...</td>\n",
       "      <td> CULEX PIPIENS/RESTUANS</td>\n",
       "      <td> 41</td>\n",
       "      <td>  N OAK PARK AVE</td>\n",
       "      <td> T002</td>\n",
       "      <td> 4100  N OAK PARK AVE, Chicago, IL</td>\n",
       "      <td> 41.954690</td>\n",
       "      <td>-87.800991</td>\n",
       "      <td> 9</td>\n",
       "      <td> 1</td>\n",
       "      <td> 0</td>\n",
       "      <td>-0.851234</td>\n",
       "      <td> 41.995</td>\n",
       "      <td>-87.933</td>\n",
       "    </tr>\n",
       "    <tr>\n",
       "      <th>1</th>\n",
       "      <td> 2007-05-29</td>\n",
       "      <td> 4100 North Oak Park Avenue, Chicago, IL 60634,...</td>\n",
       "      <td>         CULEX RESTUANS</td>\n",
       "      <td> 41</td>\n",
       "      <td>  N OAK PARK AVE</td>\n",
       "      <td> T002</td>\n",
       "      <td> 4100  N OAK PARK AVE, Chicago, IL</td>\n",
       "      <td> 41.954690</td>\n",
       "      <td>-87.800991</td>\n",
       "      <td> 9</td>\n",
       "      <td> 1</td>\n",
       "      <td> 0</td>\n",
       "      <td>-0.851234</td>\n",
       "      <td> 41.995</td>\n",
       "      <td>-87.933</td>\n",
       "    </tr>\n",
       "    <tr>\n",
       "      <th>2</th>\n",
       "      <td> 2007-05-29</td>\n",
       "      <td> 6200 North Mandell Avenue, Chicago, IL 60646, USA</td>\n",
       "      <td>         CULEX RESTUANS</td>\n",
       "      <td> 62</td>\n",
       "      <td>   N MANDELL AVE</td>\n",
       "      <td> T007</td>\n",
       "      <td>  6200  N MANDELL AVE, Chicago, IL</td>\n",
       "      <td> 41.994991</td>\n",
       "      <td>-87.769279</td>\n",
       "      <td> 9</td>\n",
       "      <td> 1</td>\n",
       "      <td> 0</td>\n",
       "      <td>-0.851234</td>\n",
       "      <td> 41.995</td>\n",
       "      <td>-87.933</td>\n",
       "    </tr>\n",
       "    <tr>\n",
       "      <th>3</th>\n",
       "      <td> 2007-05-29</td>\n",
       "      <td>   7900 West Foster Avenue, Chicago, IL 60656, USA</td>\n",
       "      <td> CULEX PIPIENS/RESTUANS</td>\n",
       "      <td> 79</td>\n",
       "      <td>    W FOSTER AVE</td>\n",
       "      <td> T015</td>\n",
       "      <td>   7900  W FOSTER AVE, Chicago, IL</td>\n",
       "      <td> 41.974089</td>\n",
       "      <td>-87.824812</td>\n",
       "      <td> 8</td>\n",
       "      <td> 1</td>\n",
       "      <td> 0</td>\n",
       "      <td>-0.851234</td>\n",
       "      <td> 41.995</td>\n",
       "      <td>-87.933</td>\n",
       "    </tr>\n",
       "    <tr>\n",
       "      <th>4</th>\n",
       "      <td> 2007-05-29</td>\n",
       "      <td>   7900 West Foster Avenue, Chicago, IL 60656, USA</td>\n",
       "      <td>         CULEX RESTUANS</td>\n",
       "      <td> 79</td>\n",
       "      <td>    W FOSTER AVE</td>\n",
       "      <td> T015</td>\n",
       "      <td>   7900  W FOSTER AVE, Chicago, IL</td>\n",
       "      <td> 41.974089</td>\n",
       "      <td>-87.824812</td>\n",
       "      <td> 8</td>\n",
       "      <td> 4</td>\n",
       "      <td> 0</td>\n",
       "      <td>-0.851234</td>\n",
       "      <td> 41.995</td>\n",
       "      <td>-87.933</td>\n",
       "    </tr>\n",
       "  </tbody>\n",
       "</table>\n",
       "</div>"
      ],
      "text/plain": [
       "         Date                                            Address  \\\n",
       "0  2007-05-29  4100 North Oak Park Avenue, Chicago, IL 60634,...   \n",
       "1  2007-05-29  4100 North Oak Park Avenue, Chicago, IL 60634,...   \n",
       "2  2007-05-29  6200 North Mandell Avenue, Chicago, IL 60646, USA   \n",
       "3  2007-05-29    7900 West Foster Avenue, Chicago, IL 60656, USA   \n",
       "4  2007-05-29    7900 West Foster Avenue, Chicago, IL 60656, USA   \n",
       "\n",
       "                  Species  Block           Street  Trap  \\\n",
       "0  CULEX PIPIENS/RESTUANS     41   N OAK PARK AVE  T002   \n",
       "1          CULEX RESTUANS     41   N OAK PARK AVE  T002   \n",
       "2          CULEX RESTUANS     62    N MANDELL AVE  T007   \n",
       "3  CULEX PIPIENS/RESTUANS     79     W FOSTER AVE  T015   \n",
       "4          CULEX RESTUANS     79     W FOSTER AVE  T015   \n",
       "\n",
       "              AddressNumberAndStreet   Latitude  Longitude  AddressAccuracy  \\\n",
       "0  4100  N OAK PARK AVE, Chicago, IL  41.954690 -87.800991                9   \n",
       "1  4100  N OAK PARK AVE, Chicago, IL  41.954690 -87.800991                9   \n",
       "2   6200  N MANDELL AVE, Chicago, IL  41.994991 -87.769279                9   \n",
       "3    7900  W FOSTER AVE, Chicago, IL  41.974089 -87.824812                8   \n",
       "4    7900  W FOSTER AVE, Chicago, IL  41.974089 -87.824812                8   \n",
       "\n",
       "   NumMosquitos  WnvPresent  Weather Effect   S_lat  S_long  \n",
       "0             1           0       -0.851234  41.995 -87.933  \n",
       "1             1           0       -0.851234  41.995 -87.933  \n",
       "2             1           0       -0.851234  41.995 -87.933  \n",
       "3             1           0       -0.851234  41.995 -87.933  \n",
       "4             4           0       -0.851234  41.995 -87.933  "
      ]
     },
     "execution_count": 2458,
     "metadata": {},
     "output_type": "execute_result"
    }
   ],
   "source": [
    "#join weather and training data by date\n",
    "train_weather = pd.merge(train, weather_new, how = 'inner', on = 'Date')\n",
    "print train_weather.shape\n",
    "train_weather.head(5)\n"
   ]
  },
  {
   "cell_type": "code",
   "execution_count": 2328,
   "metadata": {
    "collapsed": false
   },
   "outputs": [
    {
     "data": {
      "text/plain": [
       "'\\ntrain_index = []\\n\\nfor i in range(0,len(train_weather),2):\\n    lat_diff = train_weather.S_lat[i]-train_weather.Latitude[i]\\n    long_diff = train_weather.S_long[i]-train_weather.Longitude[i]\\n    \\n    lat_diff2 = train_weather.S_lat[i+1]-train_weather.Latitude[i+1]\\n    long_diff2 = train_weather.S_long[i+1]-train_weather.Longitude[i+1]\\n    \\n    d1 = 2*3959*acos(sqrt(sin(lat_diff/2)**2+cos(train_weather.S_lat[i])*cos(train_weather.Latitude[i])*sin(long_diff/2)**2))\\n    d2 = 2*3959*acos(sqrt(sin(lat_diff2/2)**2+cos(train_weather.S_lat[i+1])*cos(train_weather.Latitude[i+1])*sin(long_diff2/2)**2))\\n    \\n    if d1 >= d2:\\n        train_index.append(i+1)\\n    else:\\n        train_index.append(i)\\n'"
      ]
     },
     "execution_count": 2328,
     "metadata": {},
     "output_type": "execute_result"
    }
   ],
   "source": [
    "#Since each date has two weather data c,alculate the distance between the location they captured the mosquito and the \n",
    "#weather station and pick the closest weather station.\n",
    "#Return the index of rows with the closest weather station\n",
    "\n",
    "\"\"\"\n",
    "train_index = []\n",
    "\n",
    "for i in range(0,len(train_weather),2):\n",
    "    lat_diff = train_weather.S_lat[i]-train_weather.Latitude[i]\n",
    "    long_diff = train_weather.S_long[i]-train_weather.Longitude[i]\n",
    "    \n",
    "    lat_diff2 = train_weather.S_lat[i+1]-train_weather.Latitude[i+1]\n",
    "    long_diff2 = train_weather.S_long[i+1]-train_weather.Longitude[i+1]\n",
    "    \n",
    "    d1 = 2*3959*acos(sqrt(sin(lat_diff/2)**2+cos(train_weather.S_lat[i])*cos(train_weather.Latitude[i])*sin(long_diff/2)**2))\n",
    "    d2 = 2*3959*acos(sqrt(sin(lat_diff2/2)**2+cos(train_weather.S_lat[i+1])*cos(train_weather.Latitude[i+1])*sin(long_diff2/2)**2))\n",
    "    \n",
    "    if d1 >= d2:\n",
    "        train_index.append(i+1)\n",
    "    else:\n",
    "        train_index.append(i)\n",
    "'''\n",
    "        \n",
    "    \n",
    "    \n",
    "    \n",
    "    \n",
    "    "
   ]
  },
  {
   "cell_type": "code",
   "execution_count": 2329,
   "metadata": {
    "collapsed": false
   },
   "outputs": [
    {
     "data": {
      "text/plain": [
       "'\\n#reindex the training and weather table data to have only the data of the closest weather station.\\ntrain_weather_min = pd.DataFrame(train_weather, index = train_index)\\n#view reindexed data, the data frame should give us the data of where and when they caught the mosquitoes, whether it has the virus, \\n#and the weather information of the closest weather station\\ntrain_weather_min.head(5)\\n'"
      ]
     },
     "execution_count": 2329,
     "metadata": {},
     "output_type": "execute_result"
    }
   ],
   "source": [
    "'''\n",
    "#reindex the training and weather table data to have only the data of the closest weather station.\n",
    "train_weather_min = pd.DataFrame(train_weather, index = train_index)\n",
    "#view reindexed data, the data frame should give us the data of where and when they caught the mosquitoes, whether it has the virus, \n",
    "#and the weather information of the closest weather station\n",
    "train_weather_min.head(5)\n",
    "'''"
   ]
  },
  {
   "cell_type": "markdown",
   "metadata": {},
   "source": [
    "# Feedbacks"
   ]
  },
  {
   "cell_type": "markdown",
   "metadata": {},
   "source": [
    "Next Steps\n",
    "\n",
    "2. Create a new feature using the spray data - The feature I plan to use is how far that particular location is to the \n",
    "closest location that was sprayed, to see if the mosquito that were caught are close to the area they sprayed chemicals to kill mosquitoes.\n",
    "\n",
    "\n",
    "4. Apply logistic regression model, feature selection, and iterate."
   ]
  },
  {
   "cell_type": "markdown",
   "metadata": {},
   "source": [
    "5. Probability Calibration\n",
    "6. Logistic Regression, Decision Tree\n"
   ]
  },
  {
   "cell_type": "code",
   "execution_count": 2460,
   "metadata": {
    "collapsed": false
   },
   "outputs": [
    {
     "name": "stdout",
     "output_type": "stream",
     "text": [
      "0    CULEX PIPIENS/RESTUANS\n",
      "Name: Species, dtype: object ['CULEX ERRATICUS' 'CULEX PIPIENS' 'CULEX PIPIENS/RESTUANS'\n",
      " 'CULEX RESTUANS' 'CULEX SALINARIUS' 'CULEX TARSALIS' 'CULEX TERRITANS']\n",
      "0    9\n",
      "Name: AddressAccuracy, dtype: int64 [3 5 8 9]\n",
      "0    0\n",
      "Name: WnvPresent, dtype: int64 [0 1]\n",
      "0    41.995\n",
      "Name: S_lat, dtype: float64 [41.995]\n",
      "0   -87.933\n",
      "Name: S_long, dtype: float64 [-87.933]\n"
     ]
    }
   ],
   "source": [
    "#View unique values of each feature\n",
    "for i in range(len(train_weather.columns)):\n",
    "    weather_min_values = train_weather.values\n",
    "    if len(np.unique(weather_min_values[:,i])) <10:\n",
    "        print train_weather[train_weather.columns[i]].head(1), np.unique(train_weather.values[:,i])\n"
   ]
  },
  {
   "cell_type": "code",
   "execution_count": 2462,
   "metadata": {
    "collapsed": false
   },
   "outputs": [
    {
     "data": {
      "text/html": [
       "<div style=\"max-height:1000px;max-width:1500px;overflow:auto;\">\n",
       "<table border=\"1\" class=\"dataframe\">\n",
       "  <thead>\n",
       "    <tr style=\"text-align: right;\">\n",
       "      <th></th>\n",
       "      <th>Date</th>\n",
       "      <th>Address</th>\n",
       "      <th>Species</th>\n",
       "      <th>Block</th>\n",
       "      <th>Street</th>\n",
       "      <th>Trap</th>\n",
       "      <th>AddressNumberAndStreet</th>\n",
       "      <th>Latitude</th>\n",
       "      <th>Longitude</th>\n",
       "      <th>AddressAccuracy</th>\n",
       "      <th>NumMosquitos</th>\n",
       "      <th>WnvPresent</th>\n",
       "      <th>Weather Effect</th>\n",
       "      <th>S_lat</th>\n",
       "      <th>S_long</th>\n",
       "    </tr>\n",
       "  </thead>\n",
       "  <tbody>\n",
       "    <tr>\n",
       "      <th>0</th>\n",
       "      <td> 2007-05-29</td>\n",
       "      <td> 4100 North Oak Park Avenue, Chicago, IL 60634,...</td>\n",
       "      <td> CULEX PIPIENS/RESTUANS</td>\n",
       "      <td> 41</td>\n",
       "      <td>  N OAK PARK AVE</td>\n",
       "      <td> T002</td>\n",
       "      <td> 4100  N OAK PARK AVE, Chicago, IL</td>\n",
       "      <td> 41.954690</td>\n",
       "      <td>-87.800991</td>\n",
       "      <td> 9</td>\n",
       "      <td> 1</td>\n",
       "      <td> 0</td>\n",
       "      <td>-0.851234</td>\n",
       "      <td> 41.995</td>\n",
       "      <td>-87.933</td>\n",
       "    </tr>\n",
       "    <tr>\n",
       "      <th>1</th>\n",
       "      <td> 2007-05-29</td>\n",
       "      <td> 4100 North Oak Park Avenue, Chicago, IL 60634,...</td>\n",
       "      <td>         CULEX RESTUANS</td>\n",
       "      <td> 41</td>\n",
       "      <td>  N OAK PARK AVE</td>\n",
       "      <td> T002</td>\n",
       "      <td> 4100  N OAK PARK AVE, Chicago, IL</td>\n",
       "      <td> 41.954690</td>\n",
       "      <td>-87.800991</td>\n",
       "      <td> 9</td>\n",
       "      <td> 1</td>\n",
       "      <td> 0</td>\n",
       "      <td>-0.851234</td>\n",
       "      <td> 41.995</td>\n",
       "      <td>-87.933</td>\n",
       "    </tr>\n",
       "    <tr>\n",
       "      <th>2</th>\n",
       "      <td> 2007-05-29</td>\n",
       "      <td> 6200 North Mandell Avenue, Chicago, IL 60646, USA</td>\n",
       "      <td>         CULEX RESTUANS</td>\n",
       "      <td> 62</td>\n",
       "      <td>   N MANDELL AVE</td>\n",
       "      <td> T007</td>\n",
       "      <td>  6200  N MANDELL AVE, Chicago, IL</td>\n",
       "      <td> 41.994991</td>\n",
       "      <td>-87.769279</td>\n",
       "      <td> 9</td>\n",
       "      <td> 1</td>\n",
       "      <td> 0</td>\n",
       "      <td>-0.851234</td>\n",
       "      <td> 41.995</td>\n",
       "      <td>-87.933</td>\n",
       "    </tr>\n",
       "    <tr>\n",
       "      <th>3</th>\n",
       "      <td> 2007-05-29</td>\n",
       "      <td>   7900 West Foster Avenue, Chicago, IL 60656, USA</td>\n",
       "      <td> CULEX PIPIENS/RESTUANS</td>\n",
       "      <td> 79</td>\n",
       "      <td>    W FOSTER AVE</td>\n",
       "      <td> T015</td>\n",
       "      <td>   7900  W FOSTER AVE, Chicago, IL</td>\n",
       "      <td> 41.974089</td>\n",
       "      <td>-87.824812</td>\n",
       "      <td> 8</td>\n",
       "      <td> 1</td>\n",
       "      <td> 0</td>\n",
       "      <td>-0.851234</td>\n",
       "      <td> 41.995</td>\n",
       "      <td>-87.933</td>\n",
       "    </tr>\n",
       "    <tr>\n",
       "      <th>4</th>\n",
       "      <td> 2007-05-29</td>\n",
       "      <td>   7900 West Foster Avenue, Chicago, IL 60656, USA</td>\n",
       "      <td>         CULEX RESTUANS</td>\n",
       "      <td> 79</td>\n",
       "      <td>    W FOSTER AVE</td>\n",
       "      <td> T015</td>\n",
       "      <td>   7900  W FOSTER AVE, Chicago, IL</td>\n",
       "      <td> 41.974089</td>\n",
       "      <td>-87.824812</td>\n",
       "      <td> 8</td>\n",
       "      <td> 4</td>\n",
       "      <td> 0</td>\n",
       "      <td>-0.851234</td>\n",
       "      <td> 41.995</td>\n",
       "      <td>-87.933</td>\n",
       "    </tr>\n",
       "  </tbody>\n",
       "</table>\n",
       "</div>"
      ],
      "text/plain": [
       "         Date                                            Address  \\\n",
       "0  2007-05-29  4100 North Oak Park Avenue, Chicago, IL 60634,...   \n",
       "1  2007-05-29  4100 North Oak Park Avenue, Chicago, IL 60634,...   \n",
       "2  2007-05-29  6200 North Mandell Avenue, Chicago, IL 60646, USA   \n",
       "3  2007-05-29    7900 West Foster Avenue, Chicago, IL 60656, USA   \n",
       "4  2007-05-29    7900 West Foster Avenue, Chicago, IL 60656, USA   \n",
       "\n",
       "                  Species  Block           Street  Trap  \\\n",
       "0  CULEX PIPIENS/RESTUANS     41   N OAK PARK AVE  T002   \n",
       "1          CULEX RESTUANS     41   N OAK PARK AVE  T002   \n",
       "2          CULEX RESTUANS     62    N MANDELL AVE  T007   \n",
       "3  CULEX PIPIENS/RESTUANS     79     W FOSTER AVE  T015   \n",
       "4          CULEX RESTUANS     79     W FOSTER AVE  T015   \n",
       "\n",
       "              AddressNumberAndStreet   Latitude  Longitude  AddressAccuracy  \\\n",
       "0  4100  N OAK PARK AVE, Chicago, IL  41.954690 -87.800991                9   \n",
       "1  4100  N OAK PARK AVE, Chicago, IL  41.954690 -87.800991                9   \n",
       "2   6200  N MANDELL AVE, Chicago, IL  41.994991 -87.769279                9   \n",
       "3    7900  W FOSTER AVE, Chicago, IL  41.974089 -87.824812                8   \n",
       "4    7900  W FOSTER AVE, Chicago, IL  41.974089 -87.824812                8   \n",
       "\n",
       "   NumMosquitos  WnvPresent  Weather Effect   S_lat  S_long  \n",
       "0             1           0       -0.851234  41.995 -87.933  \n",
       "1             1           0       -0.851234  41.995 -87.933  \n",
       "2             1           0       -0.851234  41.995 -87.933  \n",
       "3             1           0       -0.851234  41.995 -87.933  \n",
       "4             4           0       -0.851234  41.995 -87.933  "
      ]
     },
     "execution_count": 2462,
     "metadata": {},
     "output_type": "execute_result"
    }
   ],
   "source": [
    "train_weather.head(5)"
   ]
  },
  {
   "cell_type": "code",
   "execution_count": 2463,
   "metadata": {
    "collapsed": false
   },
   "outputs": [
    {
     "data": {
      "text/html": [
       "<div style=\"max-height:1000px;max-width:1500px;overflow:auto;\">\n",
       "<table border=\"1\" class=\"dataframe\">\n",
       "  <thead>\n",
       "    <tr style=\"text-align: right;\">\n",
       "      <th></th>\n",
       "      <th>Date</th>\n",
       "      <th>Species</th>\n",
       "      <th>Latitude</th>\n",
       "      <th>Longitude</th>\n",
       "      <th>AddressAccuracy</th>\n",
       "      <th>NumMosquitos</th>\n",
       "      <th>WnvPresent</th>\n",
       "      <th>Weather Effect</th>\n",
       "      <th>S_lat</th>\n",
       "      <th>S_long</th>\n",
       "    </tr>\n",
       "  </thead>\n",
       "  <tbody>\n",
       "    <tr>\n",
       "      <th>0</th>\n",
       "      <td> 2007-05-29</td>\n",
       "      <td> CULEX PIPIENS/RESTUANS</td>\n",
       "      <td> 41.954690</td>\n",
       "      <td>-87.800991</td>\n",
       "      <td> 9</td>\n",
       "      <td> 1</td>\n",
       "      <td> 0</td>\n",
       "      <td>-0.851234</td>\n",
       "      <td> 41.995</td>\n",
       "      <td>-87.933</td>\n",
       "    </tr>\n",
       "    <tr>\n",
       "      <th>1</th>\n",
       "      <td> 2007-05-29</td>\n",
       "      <td>         CULEX RESTUANS</td>\n",
       "      <td> 41.954690</td>\n",
       "      <td>-87.800991</td>\n",
       "      <td> 9</td>\n",
       "      <td> 1</td>\n",
       "      <td> 0</td>\n",
       "      <td>-0.851234</td>\n",
       "      <td> 41.995</td>\n",
       "      <td>-87.933</td>\n",
       "    </tr>\n",
       "    <tr>\n",
       "      <th>2</th>\n",
       "      <td> 2007-05-29</td>\n",
       "      <td>         CULEX RESTUANS</td>\n",
       "      <td> 41.994991</td>\n",
       "      <td>-87.769279</td>\n",
       "      <td> 9</td>\n",
       "      <td> 1</td>\n",
       "      <td> 0</td>\n",
       "      <td>-0.851234</td>\n",
       "      <td> 41.995</td>\n",
       "      <td>-87.933</td>\n",
       "    </tr>\n",
       "  </tbody>\n",
       "</table>\n",
       "</div>"
      ],
      "text/plain": [
       "         Date                 Species   Latitude  Longitude  AddressAccuracy  \\\n",
       "0  2007-05-29  CULEX PIPIENS/RESTUANS  41.954690 -87.800991                9   \n",
       "1  2007-05-29          CULEX RESTUANS  41.954690 -87.800991                9   \n",
       "2  2007-05-29          CULEX RESTUANS  41.994991 -87.769279                9   \n",
       "\n",
       "   NumMosquitos  WnvPresent  Weather Effect   S_lat  S_long  \n",
       "0             1           0       -0.851234  41.995 -87.933  \n",
       "1             1           0       -0.851234  41.995 -87.933  \n",
       "2             1           0       -0.851234  41.995 -87.933  "
      ]
     },
     "execution_count": 2463,
     "metadata": {},
     "output_type": "execute_result"
    }
   ],
   "source": [
    "#take out address features because we already have latitudes and longitudes\n",
    "train_weather2= train_weather.drop(train_weather.columns[[1,3,4,5,6]], axis=1)\n",
    "train_weather2.head(3)"
   ]
  },
  {
   "cell_type": "code",
   "execution_count": 2464,
   "metadata": {
    "collapsed": false
   },
   "outputs": [
    {
     "data": {
      "text/plain": [
       "'\\n#labelencoder on mosquito species\\nfrom sklearn import preprocessing\\nle = preprocessing.LabelEncoder()\\nle.fit(train_weather2.Species)\\n'"
      ]
     },
     "execution_count": 2464,
     "metadata": {},
     "output_type": "execute_result"
    }
   ],
   "source": [
    "\"\"\"\n",
    "#labelencoder on mosquito species\n",
    "from sklearn import preprocessing\n",
    "le = preprocessing.LabelEncoder()\n",
    "le.fit(train_weather2.Species)\n",
    "\"\"\""
   ]
  },
  {
   "cell_type": "code",
   "execution_count": 2465,
   "metadata": {
    "collapsed": false
   },
   "outputs": [
    {
     "data": {
      "text/plain": [
       "\"\\n#use label encoder on training species data and replace Species in \\nspecies_new = le.transform(train_weather2.Species) \\ntrain_weather2['Species'] = species_new\\ntrain_weather2.Species.unique()\\n\""
      ]
     },
     "execution_count": 2465,
     "metadata": {},
     "output_type": "execute_result"
    }
   ],
   "source": [
    "\"\"\"\n",
    "#use label encoder on training species data and replace Species in \n",
    "species_new = le.transform(train_weather2.Species) \n",
    "train_weather2['Species'] = species_new\n",
    "train_weather2.Species.unique()\n",
    "\"\"\""
   ]
  },
  {
   "cell_type": "code",
   "execution_count": 2466,
   "metadata": {
    "collapsed": false
   },
   "outputs": [
    {
     "data": {
      "text/html": [
       "<div style=\"max-height:1000px;max-width:1500px;overflow:auto;\">\n",
       "<table border=\"1\" class=\"dataframe\">\n",
       "  <thead>\n",
       "    <tr style=\"text-align: right;\">\n",
       "      <th></th>\n",
       "      <th>Species_CULEX ERRATICUS</th>\n",
       "      <th>Species_CULEX PIPIENS</th>\n",
       "      <th>Species_CULEX PIPIENS/RESTUANS</th>\n",
       "      <th>Species_CULEX RESTUANS</th>\n",
       "      <th>Species_CULEX SALINARIUS</th>\n",
       "      <th>Species_CULEX TARSALIS</th>\n",
       "      <th>Species_CULEX TERRITANS</th>\n",
       "    </tr>\n",
       "  </thead>\n",
       "  <tbody>\n",
       "    <tr>\n",
       "      <th>0</th>\n",
       "      <td> 0</td>\n",
       "      <td> 0</td>\n",
       "      <td> 1</td>\n",
       "      <td> 0</td>\n",
       "      <td> 0</td>\n",
       "      <td> 0</td>\n",
       "      <td> 0</td>\n",
       "    </tr>\n",
       "    <tr>\n",
       "      <th>1</th>\n",
       "      <td> 0</td>\n",
       "      <td> 0</td>\n",
       "      <td> 0</td>\n",
       "      <td> 1</td>\n",
       "      <td> 0</td>\n",
       "      <td> 0</td>\n",
       "      <td> 0</td>\n",
       "    </tr>\n",
       "    <tr>\n",
       "      <th>2</th>\n",
       "      <td> 0</td>\n",
       "      <td> 0</td>\n",
       "      <td> 0</td>\n",
       "      <td> 1</td>\n",
       "      <td> 0</td>\n",
       "      <td> 0</td>\n",
       "      <td> 0</td>\n",
       "    </tr>\n",
       "    <tr>\n",
       "      <th>3</th>\n",
       "      <td> 0</td>\n",
       "      <td> 0</td>\n",
       "      <td> 1</td>\n",
       "      <td> 0</td>\n",
       "      <td> 0</td>\n",
       "      <td> 0</td>\n",
       "      <td> 0</td>\n",
       "    </tr>\n",
       "    <tr>\n",
       "      <th>4</th>\n",
       "      <td> 0</td>\n",
       "      <td> 0</td>\n",
       "      <td> 0</td>\n",
       "      <td> 1</td>\n",
       "      <td> 0</td>\n",
       "      <td> 0</td>\n",
       "      <td> 0</td>\n",
       "    </tr>\n",
       "  </tbody>\n",
       "</table>\n",
       "</div>"
      ],
      "text/plain": [
       "   Species_CULEX ERRATICUS  Species_CULEX PIPIENS  \\\n",
       "0                        0                      0   \n",
       "1                        0                      0   \n",
       "2                        0                      0   \n",
       "3                        0                      0   \n",
       "4                        0                      0   \n",
       "\n",
       "   Species_CULEX PIPIENS/RESTUANS  Species_CULEX RESTUANS  \\\n",
       "0                               1                       0   \n",
       "1                               0                       1   \n",
       "2                               0                       1   \n",
       "3                               1                       0   \n",
       "4                               0                       1   \n",
       "\n",
       "   Species_CULEX SALINARIUS  Species_CULEX TARSALIS  Species_CULEX TERRITANS  \n",
       "0                         0                       0                        0  \n",
       "1                         0                       0                        0  \n",
       "2                         0                       0                        0  \n",
       "3                         0                       0                        0  \n",
       "4                         0                       0                        0  "
      ]
     },
     "execution_count": 2466,
     "metadata": {},
     "output_type": "execute_result"
    }
   ],
   "source": [
    "#create dummy variables for Species data\n",
    "train_species = pd.get_dummies(train_weather2.Species, prefix='Species')\n",
    "#train_species['NumMosquitos'] = train_weather2.NumMosquitos\n",
    "train_species.head(5)"
   ]
  },
  {
   "cell_type": "code",
   "execution_count": 2467,
   "metadata": {
    "collapsed": false
   },
   "outputs": [
    {
     "data": {
      "text/plain": [
       "1.0"
      ]
     },
     "execution_count": 2467,
     "metadata": {},
     "output_type": "execute_result"
    }
   ],
   "source": [
    "np.sum(train_species[train_species.index == 1].values)"
   ]
  },
  {
   "cell_type": "code",
   "execution_count": 2468,
   "metadata": {
    "collapsed": false
   },
   "outputs": [
    {
     "data": {
      "text/plain": [
       "\"\\nnon_zero_sum = []\\nfor vec in range(len(train_species.index)):\\n    non_zero_sum.append(np.sum(train_species[train_species.index == vec].values))\\ntrain_species['Mosquito_Sum'] = non_zero_sum\\ntrain_species['NumMosquitos'] = train_weather2['NumMosquitos']\\n\\ntrain_species.head(5)\\n\""
      ]
     },
     "execution_count": 2468,
     "metadata": {},
     "output_type": "execute_result"
    }
   ],
   "source": [
    "#add number of mosquito from all columns\n",
    "'''\n",
    "non_zero_sum = []\n",
    "for vec in range(len(train_species.index)):\n",
    "    non_zero_sum.append(np.sum(train_species[train_species.index == vec].values))\n",
    "train_species['Mosquito_Sum'] = non_zero_sum\n",
    "train_species['NumMosquitos'] = train_weather2['NumMosquitos']\n",
    "\n",
    "train_species.head(5)\n",
    "'''"
   ]
  },
  {
   "cell_type": "code",
   "execution_count": 2469,
   "metadata": {
    "collapsed": false
   },
   "outputs": [
    {
     "data": {
      "text/plain": [
       "'\\n#Check if there is only one species of mosquito per trap\\ntrain_species.NumMosquitos.unique()\\n#Yes only 1 per trap\\n'"
      ]
     },
     "execution_count": 2469,
     "metadata": {},
     "output_type": "execute_result"
    }
   ],
   "source": [
    "'''\n",
    "#Check if there is only one species of mosquito per trap\n",
    "train_species.NumMosquitos.unique()\n",
    "#Yes only 1 per trap\n",
    "'''"
   ]
  },
  {
   "cell_type": "code",
   "execution_count": 2470,
   "metadata": {
    "collapsed": false
   },
   "outputs": [
    {
     "data": {
      "text/plain": [
       "\"\\n#Multiply the number of mosquitos into the species\\nfor x in range(len(train_species.index)):\\n    for i in train_species.columns:\\n        if train_species[i][x] > 0:\\n            train_species[i][x] = train_species[i][x] * train_species.NumMosquitos[x]\\ntrain_species2 = train_species.drop(['Mosquito_Sum','NumMosquitos'],1)\\ntrain_species2.shape\\n\""
      ]
     },
     "execution_count": 2470,
     "metadata": {},
     "output_type": "execute_result"
    }
   ],
   "source": [
    "'''\n",
    "#Multiply the number of mosquitos into the species\n",
    "for x in range(len(train_species.index)):\n",
    "    for i in train_species.columns:\n",
    "        if train_species[i][x] > 0:\n",
    "            train_species[i][x] = train_species[i][x] * train_species.NumMosquitos[x]\n",
    "train_species2 = train_species.drop(['Mosquito_Sum','NumMosquitos'],1)\n",
    "train_species2.shape\n",
    "'''         \n",
    "        "
   ]
  },
  {
   "cell_type": "code",
   "execution_count": 2471,
   "metadata": {
    "collapsed": false
   },
   "outputs": [
    {
     "data": {
      "text/html": [
       "<div style=\"max-height:1000px;max-width:1500px;overflow:auto;\">\n",
       "<table border=\"1\" class=\"dataframe\">\n",
       "  <thead>\n",
       "    <tr style=\"text-align: right;\">\n",
       "      <th></th>\n",
       "      <th>Species_CULEX ERRATICUS</th>\n",
       "      <th>Species_CULEX PIPIENS</th>\n",
       "      <th>Species_CULEX RESTUANS</th>\n",
       "      <th>Species_CULEX SALINARIUS</th>\n",
       "      <th>Species_CULEX TARSALIS</th>\n",
       "      <th>Species_CULEX TERRITANS</th>\n",
       "    </tr>\n",
       "  </thead>\n",
       "  <tbody>\n",
       "    <tr>\n",
       "      <th>0</th>\n",
       "      <td> 0</td>\n",
       "      <td> 1</td>\n",
       "      <td> 1</td>\n",
       "      <td> 0</td>\n",
       "      <td> 0</td>\n",
       "      <td> 0</td>\n",
       "    </tr>\n",
       "    <tr>\n",
       "      <th>1</th>\n",
       "      <td> 0</td>\n",
       "      <td> 0</td>\n",
       "      <td> 1</td>\n",
       "      <td> 0</td>\n",
       "      <td> 0</td>\n",
       "      <td> 0</td>\n",
       "    </tr>\n",
       "    <tr>\n",
       "      <th>2</th>\n",
       "      <td> 0</td>\n",
       "      <td> 0</td>\n",
       "      <td> 1</td>\n",
       "      <td> 0</td>\n",
       "      <td> 0</td>\n",
       "      <td> 0</td>\n",
       "    </tr>\n",
       "    <tr>\n",
       "      <th>3</th>\n",
       "      <td> 0</td>\n",
       "      <td> 1</td>\n",
       "      <td> 1</td>\n",
       "      <td> 0</td>\n",
       "      <td> 0</td>\n",
       "      <td> 0</td>\n",
       "    </tr>\n",
       "    <tr>\n",
       "      <th>4</th>\n",
       "      <td> 0</td>\n",
       "      <td> 0</td>\n",
       "      <td> 1</td>\n",
       "      <td> 0</td>\n",
       "      <td> 0</td>\n",
       "      <td> 0</td>\n",
       "    </tr>\n",
       "  </tbody>\n",
       "</table>\n",
       "</div>"
      ],
      "text/plain": [
       "   Species_CULEX ERRATICUS  Species_CULEX PIPIENS  Species_CULEX RESTUANS  \\\n",
       "0                        0                      1                       1   \n",
       "1                        0                      0                       1   \n",
       "2                        0                      0                       1   \n",
       "3                        0                      1                       1   \n",
       "4                        0                      0                       1   \n",
       "\n",
       "   Species_CULEX SALINARIUS  Species_CULEX TARSALIS  Species_CULEX TERRITANS  \n",
       "0                         0                       0                        0  \n",
       "1                         0                       0                        0  \n",
       "2                         0                       0                        0  \n",
       "3                         0                       0                        0  \n",
       "4                         0                       0                        0  "
      ]
     },
     "execution_count": 2471,
     "metadata": {},
     "output_type": "execute_result"
    }
   ],
   "source": [
    "#3rd column corelates with 2nd and 4th column, if value of column 3 is 1 then column 2 and 4 are 1\n",
    "\n",
    "for r in train_species.index:\n",
    "    if train_species[train_species.columns[2]][r] > 0:\n",
    "        train_species[train_species.columns[1]][r] = train_species[train_species.columns[2]][r]\n",
    "        train_species[train_species.columns[3]][r] = train_species[train_species.columns[2]][r]\n",
    "\n",
    "#drop column 3\n",
    "train_species= train_species.drop('Species_CULEX PIPIENS/RESTUANS',1)\n",
    "\n",
    "train_species.head(5)\n",
    "\n",
    "        \n",
    "        \n"
   ]
  },
  {
   "cell_type": "code",
   "execution_count": 2474,
   "metadata": {
    "collapsed": false
   },
   "outputs": [],
   "source": [
    "#concategate species table back to train_weather table\n",
    "train_final = pd.concat([train_weather, train_species], axis=1)"
   ]
  },
  {
   "cell_type": "code",
   "execution_count": 2475,
   "metadata": {
    "collapsed": false
   },
   "outputs": [],
   "source": [
    "train_final2 = train_final.drop(['Species', 'S_lat', 'S_long'], 1)"
   ]
  },
  {
   "cell_type": "code",
   "execution_count": 2476,
   "metadata": {
    "collapsed": false
   },
   "outputs": [
    {
     "name": "stdout",
     "output_type": "stream",
     "text": [
      "(14835, 4)\n"
     ]
    },
    {
     "data": {
      "text/html": [
       "<div style=\"max-height:1000px;max-width:1500px;overflow:auto;\">\n",
       "<table border=\"1\" class=\"dataframe\">\n",
       "  <thead>\n",
       "    <tr style=\"text-align: right;\">\n",
       "      <th></th>\n",
       "      <th>Date</th>\n",
       "      <th>Latitude_Spray</th>\n",
       "      <th>Longitude_Spray</th>\n",
       "    </tr>\n",
       "  </thead>\n",
       "  <tbody>\n",
       "    <tr>\n",
       "      <th>0</th>\n",
       "      <td> 2011-08-29</td>\n",
       "      <td> 42.391623</td>\n",
       "      <td>-88.089163</td>\n",
       "    </tr>\n",
       "    <tr>\n",
       "      <th>1</th>\n",
       "      <td> 2011-08-29</td>\n",
       "      <td> 42.391348</td>\n",
       "      <td>-88.089163</td>\n",
       "    </tr>\n",
       "    <tr>\n",
       "      <th>2</th>\n",
       "      <td> 2011-08-29</td>\n",
       "      <td> 42.391022</td>\n",
       "      <td>-88.089157</td>\n",
       "    </tr>\n",
       "    <tr>\n",
       "      <th>3</th>\n",
       "      <td> 2011-08-29</td>\n",
       "      <td> 42.390637</td>\n",
       "      <td>-88.089158</td>\n",
       "    </tr>\n",
       "    <tr>\n",
       "      <th>4</th>\n",
       "      <td> 2011-08-29</td>\n",
       "      <td> 42.390410</td>\n",
       "      <td>-88.088858</td>\n",
       "    </tr>\n",
       "  </tbody>\n",
       "</table>\n",
       "</div>"
      ],
      "text/plain": [
       "         Date  Latitude_Spray  Longitude_Spray\n",
       "0  2011-08-29       42.391623       -88.089163\n",
       "1  2011-08-29       42.391348       -88.089163\n",
       "2  2011-08-29       42.391022       -88.089157\n",
       "3  2011-08-29       42.390637       -88.089158\n",
       "4  2011-08-29       42.390410       -88.088858"
      ]
     },
     "execution_count": 2476,
     "metadata": {},
     "output_type": "execute_result"
    }
   ],
   "source": [
    "#Insert Spray Data, remove time data\n",
    "print spray.shape\n",
    "spray_drop = spray.drop('Time',1)\n",
    "spray_drop.columns = ['Date','Latitude_Spray','Longitude_Spray']\n",
    "spray_drop.head()\n"
   ]
  },
  {
   "cell_type": "code",
   "execution_count": 2477,
   "metadata": {
    "collapsed": false
   },
   "outputs": [
    {
     "data": {
      "text/plain": [
       "0    2011-08-29\n",
       "1    2011-08-29\n",
       "2    2011-08-29\n",
       "3    2011-08-29\n",
       "4    2011-08-29\n",
       "Name: Date, dtype: object"
      ]
     },
     "execution_count": 2477,
     "metadata": {},
     "output_type": "execute_result"
    }
   ],
   "source": [
    "spray_drop.Date.head()"
   ]
  },
  {
   "cell_type": "code",
   "execution_count": 2478,
   "metadata": {
    "collapsed": false
   },
   "outputs": [],
   "source": [
    "#merge spray data_drop data into train data\n",
    "#train_spray = pd.merge(train_final2, spray_drop, how = 'inner', on = 'Date')\n",
    "\n",
    "from time import strptime\n",
    "for i in range(len(spray_drop.Date)):\n",
    "    spray_drop.Date[i] = dt.datetime.strptime(spray_drop.Date[i], \"%Y-%m-%d\")\n"
   ]
  },
  {
   "cell_type": "code",
   "execution_count": 2479,
   "metadata": {
    "collapsed": false
   },
   "outputs": [
    {
     "data": {
      "text/html": [
       "<div style=\"max-height:1000px;max-width:1500px;overflow:auto;\">\n",
       "<table border=\"1\" class=\"dataframe\">\n",
       "  <thead>\n",
       "    <tr style=\"text-align: right;\">\n",
       "      <th></th>\n",
       "      <th>Spray_Date</th>\n",
       "      <th>Latitude_Spray</th>\n",
       "      <th>Longitude_Spray</th>\n",
       "    </tr>\n",
       "  </thead>\n",
       "  <tbody>\n",
       "    <tr>\n",
       "      <th>0</th>\n",
       "      <td> 2011-08-29 00:00:00</td>\n",
       "      <td> 42.391623</td>\n",
       "      <td>-88.089163</td>\n",
       "    </tr>\n",
       "    <tr>\n",
       "      <th>1</th>\n",
       "      <td> 2011-08-29 00:00:00</td>\n",
       "      <td> 42.391348</td>\n",
       "      <td>-88.089163</td>\n",
       "    </tr>\n",
       "    <tr>\n",
       "      <th>2</th>\n",
       "      <td> 2011-08-29 00:00:00</td>\n",
       "      <td> 42.391022</td>\n",
       "      <td>-88.089157</td>\n",
       "    </tr>\n",
       "  </tbody>\n",
       "</table>\n",
       "</div>"
      ],
      "text/plain": [
       "            Spray_Date  Latitude_Spray  Longitude_Spray\n",
       "0  2011-08-29 00:00:00       42.391623       -88.089163\n",
       "1  2011-08-29 00:00:00       42.391348       -88.089163\n",
       "2  2011-08-29 00:00:00       42.391022       -88.089157"
      ]
     },
     "execution_count": 2479,
     "metadata": {},
     "output_type": "execute_result"
    }
   ],
   "source": [
    "\n",
    "spray_drop.columns = (['Spray_Date','Latitude_Spray', 'Longitude_Spray'])\n",
    "spray_drop.head(3)"
   ]
  },
  {
   "cell_type": "code",
   "execution_count": 2480,
   "metadata": {
    "collapsed": false
   },
   "outputs": [],
   "source": [
    "# format training date string\n",
    "import datetime as dt\n",
    "for i in range(len(train_final2.Date)):\n",
    "    train_final2.Date[i] = dt.datetime.strptime( train_final2.Date[i],\"%Y-%m-%d\")\n",
    "\n",
    "\n",
    "#for j in range(len(train_final2.Date)):\n",
    "#    train_final2.Date[j+1] = train_final2.Date[j+1][2:4]+ ' ' + train_final2.Date[j+1][5:7]+ ' ' + train_final2.Date[j+1][8:10]"
   ]
  },
  {
   "cell_type": "code",
   "execution_count": 2481,
   "metadata": {
    "collapsed": false
   },
   "outputs": [
    {
     "data": {
      "text/html": [
       "<div style=\"max-height:1000px;max-width:1500px;overflow:auto;\">\n",
       "<table border=\"1\" class=\"dataframe\">\n",
       "  <thead>\n",
       "    <tr style=\"text-align: right;\">\n",
       "      <th></th>\n",
       "      <th>Date</th>\n",
       "      <th>Address</th>\n",
       "      <th>Block</th>\n",
       "      <th>Street</th>\n",
       "      <th>Trap</th>\n",
       "      <th>AddressNumberAndStreet</th>\n",
       "      <th>Latitude</th>\n",
       "      <th>Longitude</th>\n",
       "      <th>AddressAccuracy</th>\n",
       "      <th>NumMosquitos</th>\n",
       "      <th>WnvPresent</th>\n",
       "      <th>Weather Effect</th>\n",
       "      <th>Species_CULEX ERRATICUS</th>\n",
       "      <th>Species_CULEX PIPIENS</th>\n",
       "      <th>Species_CULEX RESTUANS</th>\n",
       "      <th>Species_CULEX SALINARIUS</th>\n",
       "      <th>Species_CULEX TARSALIS</th>\n",
       "      <th>Species_CULEX TERRITANS</th>\n",
       "    </tr>\n",
       "  </thead>\n",
       "  <tbody>\n",
       "    <tr>\n",
       "      <th>0</th>\n",
       "      <td> 2007-05-29 00:00:00</td>\n",
       "      <td> 4100 North Oak Park Avenue, Chicago, IL 60634,...</td>\n",
       "      <td> 41</td>\n",
       "      <td>  N OAK PARK AVE</td>\n",
       "      <td> T002</td>\n",
       "      <td> 4100  N OAK PARK AVE, Chicago, IL</td>\n",
       "      <td> 41.95469</td>\n",
       "      <td>-87.800991</td>\n",
       "      <td> 9</td>\n",
       "      <td> 1</td>\n",
       "      <td> 0</td>\n",
       "      <td>-0.851234</td>\n",
       "      <td> 0</td>\n",
       "      <td> 1</td>\n",
       "      <td> 1</td>\n",
       "      <td> 0</td>\n",
       "      <td> 0</td>\n",
       "      <td> 0</td>\n",
       "    </tr>\n",
       "    <tr>\n",
       "      <th>1</th>\n",
       "      <td> 2007-05-29 00:00:00</td>\n",
       "      <td> 4100 North Oak Park Avenue, Chicago, IL 60634,...</td>\n",
       "      <td> 41</td>\n",
       "      <td>  N OAK PARK AVE</td>\n",
       "      <td> T002</td>\n",
       "      <td> 4100  N OAK PARK AVE, Chicago, IL</td>\n",
       "      <td> 41.95469</td>\n",
       "      <td>-87.800991</td>\n",
       "      <td> 9</td>\n",
       "      <td> 1</td>\n",
       "      <td> 0</td>\n",
       "      <td>-0.851234</td>\n",
       "      <td> 0</td>\n",
       "      <td> 0</td>\n",
       "      <td> 1</td>\n",
       "      <td> 0</td>\n",
       "      <td> 0</td>\n",
       "      <td> 0</td>\n",
       "    </tr>\n",
       "  </tbody>\n",
       "</table>\n",
       "</div>"
      ],
      "text/plain": [
       "                  Date                                            Address  \\\n",
       "0  2007-05-29 00:00:00  4100 North Oak Park Avenue, Chicago, IL 60634,...   \n",
       "1  2007-05-29 00:00:00  4100 North Oak Park Avenue, Chicago, IL 60634,...   \n",
       "\n",
       "   Block           Street  Trap             AddressNumberAndStreet  Latitude  \\\n",
       "0     41   N OAK PARK AVE  T002  4100  N OAK PARK AVE, Chicago, IL  41.95469   \n",
       "1     41   N OAK PARK AVE  T002  4100  N OAK PARK AVE, Chicago, IL  41.95469   \n",
       "\n",
       "   Longitude  AddressAccuracy  NumMosquitos  WnvPresent  Weather Effect  \\\n",
       "0 -87.800991                9             1           0       -0.851234   \n",
       "1 -87.800991                9             1           0       -0.851234   \n",
       "\n",
       "   Species_CULEX ERRATICUS  Species_CULEX PIPIENS  Species_CULEX RESTUANS  \\\n",
       "0                        0                      1                       1   \n",
       "1                        0                      0                       1   \n",
       "\n",
       "   Species_CULEX SALINARIUS  Species_CULEX TARSALIS  Species_CULEX TERRITANS  \n",
       "0                         0                       0                        0  \n",
       "1                         0                       0                        0  "
      ]
     },
     "execution_count": 2481,
     "metadata": {},
     "output_type": "execute_result"
    }
   ],
   "source": [
    "train_final2.head(2)"
   ]
  },
  {
   "cell_type": "code",
   "execution_count": 2482,
   "metadata": {
    "collapsed": false
   },
   "outputs": [],
   "source": [
    "train_spray = pd.concat([train_final2, spray_drop], axis =1, join = 'inner')"
   ]
  },
  {
   "cell_type": "code",
   "execution_count": 2483,
   "metadata": {
    "collapsed": false
   },
   "outputs": [
    {
     "name": "stdout",
     "output_type": "stream",
     "text": [
      "(10413, 18)\n",
      "(14835, 3)\n"
     ]
    },
    {
     "data": {
      "text/plain": [
       "(10413, 21)"
      ]
     },
     "execution_count": 2483,
     "metadata": {},
     "output_type": "execute_result"
    }
   ],
   "source": [
    "print train_final2.shape\n",
    "print spray_drop.shape\n",
    "train_spray.shape"
   ]
  },
  {
   "cell_type": "code",
   "execution_count": 2505,
   "metadata": {
    "collapsed": false
   },
   "outputs": [
    {
     "data": {
      "text/html": [
       "<div style=\"max-height:1000px;max-width:1500px;overflow:auto;\">\n",
       "<table border=\"1\" class=\"dataframe\">\n",
       "  <thead>\n",
       "    <tr style=\"text-align: right;\">\n",
       "      <th></th>\n",
       "      <th>Date</th>\n",
       "      <th>Latitude</th>\n",
       "      <th>Longitude</th>\n",
       "    </tr>\n",
       "  </thead>\n",
       "  <tbody>\n",
       "    <tr>\n",
       "      <th>0</th>\n",
       "      <td> 2007-05-29 00:00:00</td>\n",
       "      <td> 41.954690</td>\n",
       "      <td>-87.800991</td>\n",
       "    </tr>\n",
       "    <tr>\n",
       "      <th>1</th>\n",
       "      <td> 2007-05-29 00:00:00</td>\n",
       "      <td> 41.954690</td>\n",
       "      <td>-87.800991</td>\n",
       "    </tr>\n",
       "    <tr>\n",
       "      <th>2</th>\n",
       "      <td> 2007-05-29 00:00:00</td>\n",
       "      <td> 41.994991</td>\n",
       "      <td>-87.769279</td>\n",
       "    </tr>\n",
       "    <tr>\n",
       "      <th>3</th>\n",
       "      <td> 2007-05-29 00:00:00</td>\n",
       "      <td> 41.974089</td>\n",
       "      <td>-87.824812</td>\n",
       "    </tr>\n",
       "    <tr>\n",
       "      <th>4</th>\n",
       "      <td> 2007-05-29 00:00:00</td>\n",
       "      <td> 41.974089</td>\n",
       "      <td>-87.824812</td>\n",
       "    </tr>\n",
       "  </tbody>\n",
       "</table>\n",
       "</div>"
      ],
      "text/plain": [
       "                  Date   Latitude  Longitude\n",
       "0  2007-05-29 00:00:00  41.954690 -87.800991\n",
       "1  2007-05-29 00:00:00  41.954690 -87.800991\n",
       "2  2007-05-29 00:00:00  41.994991 -87.769279\n",
       "3  2007-05-29 00:00:00  41.974089 -87.824812\n",
       "4  2007-05-29 00:00:00  41.974089 -87.824812"
      ]
     },
     "execution_count": 2505,
     "metadata": {},
     "output_type": "execute_result"
    }
   ],
   "source": [
    "train_date = train_final2[['Date','Latitude','Longitude']]\n",
    "train_date.head()"
   ]
  },
  {
   "cell_type": "code",
   "execution_count": 2514,
   "metadata": {
    "collapsed": false,
    "scrolled": false
   },
   "outputs": [
    {
     "name": "stdout",
     "output_type": "stream",
     "text": [
      "0\n",
      "1\n",
      "2\n",
      "3\n",
      "4\n",
      "5\n",
      "6\n",
      "7\n",
      "8\n",
      "9\n",
      "10\n",
      "11\n",
      "12\n",
      "13\n",
      "14\n",
      "15\n",
      "16\n",
      "17\n",
      "18\n",
      "19\n",
      "20\n",
      "21\n",
      "22\n",
      "23\n",
      "24\n",
      "25\n",
      "26\n",
      "27\n",
      "28\n",
      "29\n",
      "30\n",
      "31\n",
      "32\n"
     ]
    },
    {
     "name": "stderr",
     "output_type": "stream",
     "text": [
      "/home/jerd/ENTER/lib/python2.7/site-packages/IPython/kernel/__main__.py:3: SettingWithCopyWarning: A value is trying to be set on a copy of a slice from a DataFrame.\n",
      "Try using .loc[row_index,col_indexer] = value instead\n",
      "  app.launch_new_instance()\n"
     ]
    },
    {
     "ename": "KeyboardInterrupt",
     "evalue": "",
     "output_type": "error",
     "traceback": [
      "\u001b[1;31m---------------------------------------------------------------------------\u001b[0m",
      "\u001b[1;31mKeyboardInterrupt\u001b[0m                         Traceback (most recent call last)",
      "\u001b[1;32m<ipython-input-2514-a53b17386d2d>\u001b[0m in \u001b[0;36m<module>\u001b[1;34m()\u001b[0m\n\u001b[0;32m      7\u001b[0m     \u001b[0mdistance\u001b[0m \u001b[1;33m=\u001b[0m \u001b[0mmin_distance\u001b[0m\u001b[1;33m\u001b[0m\u001b[0m\n\u001b[0;32m      8\u001b[0m     \u001b[1;32mfor\u001b[0m \u001b[0mi\u001b[0m \u001b[1;32min\u001b[0m \u001b[0mspray_drop\u001b[0m\u001b[1;33m.\u001b[0m\u001b[0mindex\u001b[0m\u001b[1;33m:\u001b[0m\u001b[1;33m\u001b[0m\u001b[0m\n\u001b[1;32m----> 9\u001b[1;33m         \u001b[1;32mif\u001b[0m \u001b[0mtrain_date\u001b[0m\u001b[1;33m.\u001b[0m\u001b[0mDate\u001b[0m\u001b[1;33m[\u001b[0m\u001b[0md\u001b[0m\u001b[1;33m]\u001b[0m \u001b[1;33m==\u001b[0m \u001b[0mspray_drop\u001b[0m\u001b[1;33m.\u001b[0m\u001b[0mSpray_Date\u001b[0m\u001b[1;33m[\u001b[0m\u001b[0mi\u001b[0m\u001b[1;33m]\u001b[0m\u001b[1;33m:\u001b[0m\u001b[1;33m\u001b[0m\u001b[0m\n\u001b[0m\u001b[0;32m     10\u001b[0m             \u001b[0mlat_diff\u001b[0m \u001b[1;33m=\u001b[0m \u001b[0mtrain_date\u001b[0m\u001b[1;33m.\u001b[0m\u001b[0mLatitude\u001b[0m\u001b[1;33m[\u001b[0m\u001b[0md\u001b[0m\u001b[1;33m]\u001b[0m\u001b[1;33m-\u001b[0m\u001b[0mspray_drop\u001b[0m\u001b[1;33m.\u001b[0m\u001b[0mLatitude_Spray\u001b[0m\u001b[1;33m[\u001b[0m\u001b[0mi\u001b[0m\u001b[1;33m]\u001b[0m\u001b[1;33m\u001b[0m\u001b[0m\n\u001b[0;32m     11\u001b[0m             \u001b[0mlong_diff\u001b[0m \u001b[1;33m=\u001b[0m \u001b[0mtrain_date\u001b[0m\u001b[1;33m.\u001b[0m\u001b[0mLongitude\u001b[0m\u001b[1;33m[\u001b[0m\u001b[0md\u001b[0m\u001b[1;33m]\u001b[0m\u001b[1;33m-\u001b[0m\u001b[0mspray_drop\u001b[0m\u001b[1;33m.\u001b[0m\u001b[0mLongitude_Spray\u001b[0m\u001b[1;33m[\u001b[0m\u001b[0mi\u001b[0m\u001b[1;33m]\u001b[0m\u001b[1;33m\u001b[0m\u001b[0m\n",
      "\u001b[1;32m/home/jerd/ENTER/lib/python2.7/site-packages/pandas/core/series.pyc\u001b[0m in \u001b[0;36m__getitem__\u001b[1;34m(self, key)\u001b[0m\n\u001b[0;32m    484\u001b[0m             \u001b[0mresult\u001b[0m \u001b[1;33m=\u001b[0m \u001b[0mself\u001b[0m\u001b[1;33m.\u001b[0m\u001b[0mindex\u001b[0m\u001b[1;33m.\u001b[0m\u001b[0mget_value\u001b[0m\u001b[1;33m(\u001b[0m\u001b[0mself\u001b[0m\u001b[1;33m,\u001b[0m \u001b[0mkey\u001b[0m\u001b[1;33m)\u001b[0m\u001b[1;33m\u001b[0m\u001b[0m\n\u001b[0;32m    485\u001b[0m \u001b[1;33m\u001b[0m\u001b[0m\n\u001b[1;32m--> 486\u001b[1;33m             \u001b[1;32mif\u001b[0m \u001b[1;32mnot\u001b[0m \u001b[0mnp\u001b[0m\u001b[1;33m.\u001b[0m\u001b[0misscalar\u001b[0m\u001b[1;33m(\u001b[0m\u001b[0mresult\u001b[0m\u001b[1;33m)\u001b[0m\u001b[1;33m:\u001b[0m\u001b[1;33m\u001b[0m\u001b[0m\n\u001b[0m\u001b[0;32m    487\u001b[0m                 \u001b[1;32mif\u001b[0m \u001b[0mis_list_like\u001b[0m\u001b[1;33m(\u001b[0m\u001b[0mresult\u001b[0m\u001b[1;33m)\u001b[0m \u001b[1;32mand\u001b[0m \u001b[1;32mnot\u001b[0m \u001b[0misinstance\u001b[0m\u001b[1;33m(\u001b[0m\u001b[0mresult\u001b[0m\u001b[1;33m,\u001b[0m \u001b[0mSeries\u001b[0m\u001b[1;33m)\u001b[0m\u001b[1;33m:\u001b[0m\u001b[1;33m\u001b[0m\u001b[0m\n\u001b[0;32m    488\u001b[0m \u001b[1;33m\u001b[0m\u001b[0m\n",
      "\u001b[1;32m/home/jerd/ENTER/lib/python2.7/site-packages/numpy/core/numeric.pyc\u001b[0m in \u001b[0;36misscalar\u001b[1;34m(num)\u001b[0m\n\u001b[0;32m   1932\u001b[0m \u001b[1;33m\u001b[0m\u001b[0m\n\u001b[0;32m   1933\u001b[0m     \"\"\"\n\u001b[1;32m-> 1934\u001b[1;33m     \u001b[1;32mif\u001b[0m \u001b[0misinstance\u001b[0m\u001b[1;33m(\u001b[0m\u001b[0mnum\u001b[0m\u001b[1;33m,\u001b[0m \u001b[0mgeneric\u001b[0m\u001b[1;33m)\u001b[0m\u001b[1;33m:\u001b[0m\u001b[1;33m\u001b[0m\u001b[0m\n\u001b[0m\u001b[0;32m   1935\u001b[0m         \u001b[1;32mreturn\u001b[0m \u001b[0mTrue\u001b[0m\u001b[1;33m\u001b[0m\u001b[0m\n\u001b[0;32m   1936\u001b[0m     \u001b[1;32melse\u001b[0m\u001b[1;33m:\u001b[0m\u001b[1;33m\u001b[0m\u001b[0m\n",
      "\u001b[1;31mKeyboardInterrupt\u001b[0m: "
     ]
    }
   ],
   "source": [
    "#Create the mean distance of the trap from the spray that was sprayed on the same day\n",
    "min_distance = []\n",
    "train_date['Distance'] = np.zeros(len(train_final2.index))\n",
    "all_distance =[]\n",
    "for d in train_date.index:\n",
    "    print d\n",
    "    distance = min_distance\n",
    "    for i in spray_drop.index:\n",
    "        if train_date.Date[d] == spray_drop.Spray_Date[i]:\n",
    "            lat_diff = train_date.Latitude[d]-spray_drop.Latitude_Spray[i]\n",
    "            long_diff = train_date.Longitude[d]-spray_drop.Longitude_Spray[i]\n",
    "            d1 = 2*3959*acos(sqrt(sin(lat_diff/2)**2+cos(train_date.Latitude[d])*cos(spray_drop.Latitude_Spray[i])*sin(long_diff/2)**2))\n",
    "            all_distance.append(d1)\n",
    "            min_distance.append(np.mean(all_distance))\n",
    "            \n",
    " \n",
    "#distance.append(np.mean(all_distance))\n",
    "#print all_distance.mean()\n",
    "#train_spray.head(2)\n"
   ]
  },
  {
   "cell_type": "code",
   "execution_count": 2515,
   "metadata": {
    "collapsed": false
   },
   "outputs": [
    {
     "data": {
      "text/plain": [
       "[]"
      ]
     },
     "execution_count": 2515,
     "metadata": {},
     "output_type": "execute_result"
    }
   ],
   "source": [
    "min_distance[1:5]"
   ]
  },
  {
   "cell_type": "code",
   "execution_count": null,
   "metadata": {
    "collapsed": false
   },
   "outputs": [],
   "source": [
    "#Create time difference between the trap and the spray that was sprayed in the closest location\n",
    "\n",
    "all_distance2 = []\n",
    "\n",
    "for d in train_date.index:\n",
    "    for i in train_spray.index:\n",
    "        if s\n",
    "        #d2 = 2*3959*acos(sqrt(sin(lat_diff/2)**2+cos(train_spray.Latitude[d])*cos(train_spray.Latitude_Spray[i])*sin(long_diff/2)**2))\n",
    "        \n",
    "#closest_date = train_spray.Spray_Date[all_distance2.index(min(all_distance2))]\n",
    "    \n",
    "\n",
    "    \n",
    "        \n",
    "\n",
    "\n",
    "\n",
    "\n",
    "\n",
    "\n",
    "\n"
   ]
  },
  {
   "cell_type": "code",
   "execution_count": null,
   "metadata": {
    "collapsed": false
   },
   "outputs": [],
   "source": [
    "#Create spray time feature\n"
   ]
  },
  {
   "cell_type": "code",
   "execution_count": null,
   "metadata": {
    "collapsed": true
   },
   "outputs": [],
   "source": [
    "import datetime as dt\n",
    "for i in range(len(train_final3.Date)):\n",
    "    train_final3.Date[i] = dt.datetime.strptime( train_final3.Date[i],\"%Y-%m-%d\")\n",
    "features_train.head()"
   ]
  },
  {
   "cell_type": "code",
   "execution_count": 2498,
   "metadata": {
    "collapsed": false,
    "scrolled": true
   },
   "outputs": [],
   "source": [
    "train_final3 = train_final2.drop(train_final2.columns[[1,2,3,4,5]],1)\n",
    "features_train = train_final3\n",
    "target_train = train_final2['WnvPresent']\n",
    "# format training date string\n"
   ]
  },
  {
   "cell_type": "code",
   "execution_count": 2499,
   "metadata": {
    "collapsed": false
   },
   "outputs": [],
   "source": [
    "features_train = features_train.drop('Date',1)"
   ]
  },
  {
   "cell_type": "code",
   "execution_count": 2500,
   "metadata": {
    "collapsed": true
   },
   "outputs": [],
   "source": [
    "#separate train test data\n",
    "from sklearn.cross_validation import train_test_split, cross_val_score\n",
    "x_train, x_test, y_train, y_test = train_test_split(features_train, target_train, test_size=0.3, random_state=10)\n",
    "\n",
    "\n",
    "\n",
    "\n"
   ]
  },
  {
   "cell_type": "code",
   "execution_count": 2503,
   "metadata": {
    "collapsed": false
   },
   "outputs": [
    {
     "ename": "KeyError",
     "evalue": "'<ipython-input-1855-f4f0c973ab7a>'",
     "output_type": "error",
     "traceback": [
      "\u001b[1;31m---------------------------------------------------------------------------\u001b[0m",
      "\u001b[1;31mKeyError\u001b[0m                                  Traceback (most recent call last)",
      "\u001b[1;32m<ipython-input-2503-a4d8dc446292>\u001b[0m in \u001b[0;36m<module>\u001b[1;34m()\u001b[0m\n\u001b[0;32m      4\u001b[0m \u001b[1;32mfrom\u001b[0m \u001b[0msklearn\u001b[0m \u001b[1;32mimport\u001b[0m \u001b[0mensemble\u001b[0m\u001b[1;33m,\u001b[0m \u001b[0mpreprocessing\u001b[0m\u001b[1;33m\u001b[0m\u001b[0m\n\u001b[0;32m      5\u001b[0m \u001b[0mclf\u001b[0m \u001b[1;33m=\u001b[0m \u001b[0mensemble\u001b[0m\u001b[1;33m.\u001b[0m\u001b[0mRandomForestClassifier\u001b[0m\u001b[1;33m(\u001b[0m\u001b[0mn_jobs\u001b[0m\u001b[1;33m=\u001b[0m\u001b[1;33m-\u001b[0m\u001b[1;36m1\u001b[0m\u001b[1;33m,\u001b[0m \u001b[0mn_estimators\u001b[0m\u001b[1;33m=\u001b[0m\u001b[1;36m1000\u001b[0m\u001b[1;33m,\u001b[0m \u001b[0mmin_samples_split\u001b[0m\u001b[1;33m=\u001b[0m\u001b[1;36m1\u001b[0m\u001b[1;33m)\u001b[0m\u001b[1;33m\u001b[0m\u001b[0m\n\u001b[1;32m----> 6\u001b[1;33m \u001b[0mclf\u001b[0m\u001b[1;33m.\u001b[0m\u001b[0mfit\u001b[0m\u001b[1;33m(\u001b[0m\u001b[0mx_train\u001b[0m\u001b[1;33m,\u001b[0m \u001b[0mx_test\u001b[0m\u001b[1;33m)\u001b[0m\u001b[1;33m\u001b[0m\u001b[0m\n\u001b[0m",
      "\u001b[1;32m/home/jerd/ENTER/lib/python2.7/site-packages/sklearn/ensemble/forest.pyc\u001b[0m in \u001b[0;36mfit\u001b[1;34m(self, X, y, sample_weight)\u001b[0m\n\u001b[0;32m    277\u001b[0m                 \u001b[0msample_weight\u001b[0m\u001b[1;33m,\u001b[0m\u001b[1;33m\u001b[0m\u001b[0m\n\u001b[0;32m    278\u001b[0m                 verbose=self.verbose)\n\u001b[1;32m--> 279\u001b[1;33m             for i in range(n_jobs))\n\u001b[0m\u001b[0;32m    280\u001b[0m \u001b[1;33m\u001b[0m\u001b[0m\n\u001b[0;32m    281\u001b[0m         \u001b[1;31m# Reduce\u001b[0m\u001b[1;33m\u001b[0m\u001b[1;33m\u001b[0m\u001b[0m\n",
      "\u001b[1;32m/home/jerd/ENTER/lib/python2.7/site-packages/sklearn/externals/joblib/parallel.pyc\u001b[0m in \u001b[0;36m__call__\u001b[1;34m(self, iterable)\u001b[0m\n\u001b[0;32m    658\u001b[0m                 \u001b[1;31m# consumption.\u001b[0m\u001b[1;33m\u001b[0m\u001b[1;33m\u001b[0m\u001b[0m\n\u001b[0;32m    659\u001b[0m                 \u001b[0mself\u001b[0m\u001b[1;33m.\u001b[0m\u001b[0m_iterating\u001b[0m \u001b[1;33m=\u001b[0m \u001b[0mFalse\u001b[0m\u001b[1;33m\u001b[0m\u001b[0m\n\u001b[1;32m--> 660\u001b[1;33m             \u001b[0mself\u001b[0m\u001b[1;33m.\u001b[0m\u001b[0mretrieve\u001b[0m\u001b[1;33m(\u001b[0m\u001b[1;33m)\u001b[0m\u001b[1;33m\u001b[0m\u001b[0m\n\u001b[0m\u001b[0;32m    661\u001b[0m             \u001b[1;31m# Make sure that we get a last message telling us we are done\u001b[0m\u001b[1;33m\u001b[0m\u001b[1;33m\u001b[0m\u001b[0m\n\u001b[0;32m    662\u001b[0m             \u001b[0melapsed_time\u001b[0m \u001b[1;33m=\u001b[0m \u001b[0mtime\u001b[0m\u001b[1;33m.\u001b[0m\u001b[0mtime\u001b[0m\u001b[1;33m(\u001b[0m\u001b[1;33m)\u001b[0m \u001b[1;33m-\u001b[0m \u001b[0mself\u001b[0m\u001b[1;33m.\u001b[0m\u001b[0m_start_time\u001b[0m\u001b[1;33m\u001b[0m\u001b[0m\n",
      "\u001b[1;32m/home/jerd/ENTER/lib/python2.7/site-packages/sklearn/externals/joblib/parallel.pyc\u001b[0m in \u001b[0;36mretrieve\u001b[1;34m(self)\u001b[0m\n\u001b[0;32m    510\u001b[0m                 \u001b[0mself\u001b[0m\u001b[1;33m.\u001b[0m\u001b[0m_lock\u001b[0m\u001b[1;33m.\u001b[0m\u001b[0mrelease\u001b[0m\u001b[1;33m(\u001b[0m\u001b[1;33m)\u001b[0m\u001b[1;33m\u001b[0m\u001b[0m\n\u001b[0;32m    511\u001b[0m             \u001b[1;32mtry\u001b[0m\u001b[1;33m:\u001b[0m\u001b[1;33m\u001b[0m\u001b[0m\n\u001b[1;32m--> 512\u001b[1;33m                 \u001b[0mself\u001b[0m\u001b[1;33m.\u001b[0m\u001b[0m_output\u001b[0m\u001b[1;33m.\u001b[0m\u001b[0mappend\u001b[0m\u001b[1;33m(\u001b[0m\u001b[0mjob\u001b[0m\u001b[1;33m.\u001b[0m\u001b[0mget\u001b[0m\u001b[1;33m(\u001b[0m\u001b[1;33m)\u001b[0m\u001b[1;33m)\u001b[0m\u001b[1;33m\u001b[0m\u001b[0m\n\u001b[0m\u001b[0;32m    513\u001b[0m             \u001b[1;32mexcept\u001b[0m \u001b[0mtuple\u001b[0m\u001b[1;33m(\u001b[0m\u001b[0mself\u001b[0m\u001b[1;33m.\u001b[0m\u001b[0mexceptions\u001b[0m\u001b[1;33m)\u001b[0m \u001b[1;32mas\u001b[0m \u001b[0mexception\u001b[0m\u001b[1;33m:\u001b[0m\u001b[1;33m\u001b[0m\u001b[0m\n\u001b[0;32m    514\u001b[0m                 \u001b[1;32mtry\u001b[0m\u001b[1;33m:\u001b[0m\u001b[1;33m\u001b[0m\u001b[0m\n",
      "\u001b[1;32m/home/jerd/ENTER/lib/python2.7/multiprocessing/pool.pyc\u001b[0m in \u001b[0;36mget\u001b[1;34m(self, timeout)\u001b[0m\n\u001b[0;32m    556\u001b[0m             \u001b[1;32mreturn\u001b[0m \u001b[0mself\u001b[0m\u001b[1;33m.\u001b[0m\u001b[0m_value\u001b[0m\u001b[1;33m\u001b[0m\u001b[0m\n\u001b[0;32m    557\u001b[0m         \u001b[1;32melse\u001b[0m\u001b[1;33m:\u001b[0m\u001b[1;33m\u001b[0m\u001b[0m\n\u001b[1;32m--> 558\u001b[1;33m             \u001b[1;32mraise\u001b[0m \u001b[0mself\u001b[0m\u001b[1;33m.\u001b[0m\u001b[0m_value\u001b[0m\u001b[1;33m\u001b[0m\u001b[0m\n\u001b[0m\u001b[0;32m    559\u001b[0m \u001b[1;33m\u001b[0m\u001b[0m\n\u001b[0;32m    560\u001b[0m     \u001b[1;32mdef\u001b[0m \u001b[0m_set\u001b[0m\u001b[1;33m(\u001b[0m\u001b[0mself\u001b[0m\u001b[1;33m,\u001b[0m \u001b[0mi\u001b[0m\u001b[1;33m,\u001b[0m \u001b[0mobj\u001b[0m\u001b[1;33m)\u001b[0m\u001b[1;33m:\u001b[0m\u001b[1;33m\u001b[0m\u001b[0m\n",
      "\u001b[1;31mKeyError\u001b[0m: '<ipython-input-1855-f4f0c973ab7a>'"
     ]
    }
   ],
   "source": [
    "\n",
    "\n",
    "#Or use decision tree\n",
    "from sklearn import ensemble, preprocessing\n",
    "clf = ensemble.RandomForestClassifier(n_jobs=-1, n_estimators=1000, min_samples_split=1)\n",
    "clf.fit(x_train, x_test)\n"
   ]
  },
  {
   "cell_type": "code",
   "execution_count": 2487,
   "metadata": {
    "collapsed": false
   },
   "outputs": [
    {
     "ename": "AttributeError",
     "evalue": "'LogisticRegression' object has no attribute 'coef_'",
     "output_type": "error",
     "traceback": [
      "\u001b[1;31m---------------------------------------------------------------------------\u001b[0m",
      "\u001b[1;31mAttributeError\u001b[0m                            Traceback (most recent call last)",
      "\u001b[1;32m<ipython-input-2487-81f3863a3c4b>\u001b[0m in \u001b[0;36m<module>\u001b[1;34m()\u001b[0m\n\u001b[0;32m      1\u001b[0m \u001b[1;31m#evaluate accuracy of model\u001b[0m\u001b[1;33m\u001b[0m\u001b[1;33m\u001b[0m\u001b[0m\n\u001b[0;32m      2\u001b[0m \u001b[1;32mfrom\u001b[0m \u001b[0msklearn\u001b[0m\u001b[1;33m.\u001b[0m\u001b[0mmetrics\u001b[0m \u001b[1;32mimport\u001b[0m \u001b[0maccuracy_score\u001b[0m\u001b[1;33m\u001b[0m\u001b[0m\n\u001b[1;32m----> 3\u001b[1;33m \u001b[0my_predicted\u001b[0m \u001b[1;33m=\u001b[0m \u001b[0mlr\u001b[0m\u001b[1;33m.\u001b[0m\u001b[0mpredict\u001b[0m\u001b[1;33m(\u001b[0m\u001b[0mx_test\u001b[0m\u001b[1;33m)\u001b[0m\u001b[1;33m\u001b[0m\u001b[0m\n\u001b[0m\u001b[0;32m      4\u001b[0m \u001b[0maccuracy_score\u001b[0m\u001b[1;33m(\u001b[0m\u001b[0my_test\u001b[0m\u001b[1;33m,\u001b[0m \u001b[0my_predicted\u001b[0m\u001b[1;33m)\u001b[0m\u001b[1;33m\u001b[0m\u001b[0m\n",
      "\u001b[1;32m/home/jerd/ENTER/lib/python2.7/site-packages/sklearn/linear_model/base.pyc\u001b[0m in \u001b[0;36mpredict\u001b[1;34m(self, X)\u001b[0m\n\u001b[0;32m    213\u001b[0m             \u001b[0mPredicted\u001b[0m \u001b[1;32mclass\u001b[0m \u001b[0mlabel\u001b[0m \u001b[0mper\u001b[0m \u001b[0msample\u001b[0m\u001b[1;33m.\u001b[0m\u001b[1;33m\u001b[0m\u001b[0m\n\u001b[0;32m    214\u001b[0m         \"\"\"\n\u001b[1;32m--> 215\u001b[1;33m         \u001b[0mscores\u001b[0m \u001b[1;33m=\u001b[0m \u001b[0mself\u001b[0m\u001b[1;33m.\u001b[0m\u001b[0mdecision_function\u001b[0m\u001b[1;33m(\u001b[0m\u001b[0mX\u001b[0m\u001b[1;33m)\u001b[0m\u001b[1;33m\u001b[0m\u001b[0m\n\u001b[0m\u001b[0;32m    216\u001b[0m         \u001b[1;32mif\u001b[0m \u001b[0mlen\u001b[0m\u001b[1;33m(\u001b[0m\u001b[0mscores\u001b[0m\u001b[1;33m.\u001b[0m\u001b[0mshape\u001b[0m\u001b[1;33m)\u001b[0m \u001b[1;33m==\u001b[0m \u001b[1;36m1\u001b[0m\u001b[1;33m:\u001b[0m\u001b[1;33m\u001b[0m\u001b[0m\n\u001b[0;32m    217\u001b[0m             \u001b[0mindices\u001b[0m \u001b[1;33m=\u001b[0m \u001b[1;33m(\u001b[0m\u001b[0mscores\u001b[0m \u001b[1;33m>\u001b[0m \u001b[1;36m0\u001b[0m\u001b[1;33m)\u001b[0m\u001b[1;33m.\u001b[0m\u001b[0mastype\u001b[0m\u001b[1;33m(\u001b[0m\u001b[0mnp\u001b[0m\u001b[1;33m.\u001b[0m\u001b[0mint\u001b[0m\u001b[1;33m)\u001b[0m\u001b[1;33m\u001b[0m\u001b[0m\n",
      "\u001b[1;32m/home/jerd/ENTER/lib/python2.7/site-packages/sklearn/linear_model/base.pyc\u001b[0m in \u001b[0;36mdecision_function\u001b[1;34m(self, X)\u001b[0m\n\u001b[0;32m    191\u001b[0m         \u001b[0mX\u001b[0m \u001b[1;33m=\u001b[0m \u001b[0matleast2d_or_csr\u001b[0m\u001b[1;33m(\u001b[0m\u001b[0mX\u001b[0m\u001b[1;33m)\u001b[0m\u001b[1;33m\u001b[0m\u001b[0m\n\u001b[0;32m    192\u001b[0m \u001b[1;33m\u001b[0m\u001b[0m\n\u001b[1;32m--> 193\u001b[1;33m         \u001b[0mn_features\u001b[0m \u001b[1;33m=\u001b[0m \u001b[0mself\u001b[0m\u001b[1;33m.\u001b[0m\u001b[0mcoef_\u001b[0m\u001b[1;33m.\u001b[0m\u001b[0mshape\u001b[0m\u001b[1;33m[\u001b[0m\u001b[1;36m1\u001b[0m\u001b[1;33m]\u001b[0m\u001b[1;33m\u001b[0m\u001b[0m\n\u001b[0m\u001b[0;32m    194\u001b[0m         \u001b[1;32mif\u001b[0m \u001b[0mX\u001b[0m\u001b[1;33m.\u001b[0m\u001b[0mshape\u001b[0m\u001b[1;33m[\u001b[0m\u001b[1;36m1\u001b[0m\u001b[1;33m]\u001b[0m \u001b[1;33m!=\u001b[0m \u001b[0mn_features\u001b[0m\u001b[1;33m:\u001b[0m\u001b[1;33m\u001b[0m\u001b[0m\n\u001b[0;32m    195\u001b[0m             raise ValueError(\"X has %d features per sample; expecting %d\"\n",
      "\u001b[1;31mAttributeError\u001b[0m: 'LogisticRegression' object has no attribute 'coef_'"
     ]
    }
   ],
   "source": [
    "#evaluate accuracy of model\n",
    "from sklearn.metrics import accuracy_score\n",
    "y_predicted = lr.predict(x_test)\n",
    "accuracy_score(y_test, y_predicted)\n"
   ]
  },
  {
   "cell_type": "code",
   "execution_count": 2325,
   "metadata": {
    "collapsed": false
   },
   "outputs": [
    {
     "data": {
      "text/plain": [
       "0.94286075482620579"
      ]
     },
     "execution_count": 2325,
     "metadata": {},
     "output_type": "execute_result"
    }
   ],
   "source": [
    "#cross validation to evaluate model\n",
    "scores = cross_val_score(lr, features_train, target_train, cv=5)\n",
    "scores.mean()"
   ]
  },
  {
   "cell_type": "markdown",
   "metadata": {},
   "source": [
    "# Clean Testing Data"
   ]
  },
  {
   "cell_type": "code",
   "execution_count": 2193,
   "metadata": {
    "collapsed": false
   },
   "outputs": [
    {
     "data": {
      "text/html": [
       "<div style=\"max-height:1000px;max-width:1500px;overflow:auto;\">\n",
       "<table border=\"1\" class=\"dataframe\">\n",
       "  <thead>\n",
       "    <tr style=\"text-align: right;\">\n",
       "      <th></th>\n",
       "      <th>Id</th>\n",
       "      <th>Date</th>\n",
       "      <th>Address</th>\n",
       "      <th>Species</th>\n",
       "      <th>Block</th>\n",
       "      <th>Street</th>\n",
       "      <th>Trap</th>\n",
       "      <th>AddressNumberAndStreet</th>\n",
       "      <th>Latitude</th>\n",
       "      <th>Longitude</th>\n",
       "      <th>AddressAccuracy</th>\n",
       "    </tr>\n",
       "  </thead>\n",
       "  <tbody>\n",
       "    <tr>\n",
       "      <th>0</th>\n",
       "      <td> 1</td>\n",
       "      <td> 2008-06-11</td>\n",
       "      <td> 4100 North Oak Park Avenue, Chicago, IL 60634,...</td>\n",
       "      <td> CULEX PIPIENS/RESTUANS</td>\n",
       "      <td> 41</td>\n",
       "      <td>  N OAK PARK AVE</td>\n",
       "      <td> T002</td>\n",
       "      <td> 4100  N OAK PARK AVE, Chicago, IL</td>\n",
       "      <td> 41.95469</td>\n",
       "      <td>-87.800991</td>\n",
       "      <td> 9</td>\n",
       "    </tr>\n",
       "    <tr>\n",
       "      <th>1</th>\n",
       "      <td> 2</td>\n",
       "      <td> 2008-06-11</td>\n",
       "      <td> 4100 North Oak Park Avenue, Chicago, IL 60634,...</td>\n",
       "      <td>         CULEX RESTUANS</td>\n",
       "      <td> 41</td>\n",
       "      <td>  N OAK PARK AVE</td>\n",
       "      <td> T002</td>\n",
       "      <td> 4100  N OAK PARK AVE, Chicago, IL</td>\n",
       "      <td> 41.95469</td>\n",
       "      <td>-87.800991</td>\n",
       "      <td> 9</td>\n",
       "    </tr>\n",
       "    <tr>\n",
       "      <th>2</th>\n",
       "      <td> 3</td>\n",
       "      <td> 2008-06-11</td>\n",
       "      <td> 4100 North Oak Park Avenue, Chicago, IL 60634,...</td>\n",
       "      <td>          CULEX PIPIENS</td>\n",
       "      <td> 41</td>\n",
       "      <td>  N OAK PARK AVE</td>\n",
       "      <td> T002</td>\n",
       "      <td> 4100  N OAK PARK AVE, Chicago, IL</td>\n",
       "      <td> 41.95469</td>\n",
       "      <td>-87.800991</td>\n",
       "      <td> 9</td>\n",
       "    </tr>\n",
       "    <tr>\n",
       "      <th>3</th>\n",
       "      <td> 4</td>\n",
       "      <td> 2008-06-11</td>\n",
       "      <td> 4100 North Oak Park Avenue, Chicago, IL 60634,...</td>\n",
       "      <td>       CULEX SALINARIUS</td>\n",
       "      <td> 41</td>\n",
       "      <td>  N OAK PARK AVE</td>\n",
       "      <td> T002</td>\n",
       "      <td> 4100  N OAK PARK AVE, Chicago, IL</td>\n",
       "      <td> 41.95469</td>\n",
       "      <td>-87.800991</td>\n",
       "      <td> 9</td>\n",
       "    </tr>\n",
       "    <tr>\n",
       "      <th>4</th>\n",
       "      <td> 5</td>\n",
       "      <td> 2008-06-11</td>\n",
       "      <td> 4100 North Oak Park Avenue, Chicago, IL 60634,...</td>\n",
       "      <td>        CULEX TERRITANS</td>\n",
       "      <td> 41</td>\n",
       "      <td>  N OAK PARK AVE</td>\n",
       "      <td> T002</td>\n",
       "      <td> 4100  N OAK PARK AVE, Chicago, IL</td>\n",
       "      <td> 41.95469</td>\n",
       "      <td>-87.800991</td>\n",
       "      <td> 9</td>\n",
       "    </tr>\n",
       "  </tbody>\n",
       "</table>\n",
       "</div>"
      ],
      "text/plain": [
       "   Id        Date                                            Address  \\\n",
       "0   1  2008-06-11  4100 North Oak Park Avenue, Chicago, IL 60634,...   \n",
       "1   2  2008-06-11  4100 North Oak Park Avenue, Chicago, IL 60634,...   \n",
       "2   3  2008-06-11  4100 North Oak Park Avenue, Chicago, IL 60634,...   \n",
       "3   4  2008-06-11  4100 North Oak Park Avenue, Chicago, IL 60634,...   \n",
       "4   5  2008-06-11  4100 North Oak Park Avenue, Chicago, IL 60634,...   \n",
       "\n",
       "                  Species  Block           Street  Trap  \\\n",
       "0  CULEX PIPIENS/RESTUANS     41   N OAK PARK AVE  T002   \n",
       "1          CULEX RESTUANS     41   N OAK PARK AVE  T002   \n",
       "2           CULEX PIPIENS     41   N OAK PARK AVE  T002   \n",
       "3        CULEX SALINARIUS     41   N OAK PARK AVE  T002   \n",
       "4         CULEX TERRITANS     41   N OAK PARK AVE  T002   \n",
       "\n",
       "              AddressNumberAndStreet  Latitude  Longitude  AddressAccuracy  \n",
       "0  4100  N OAK PARK AVE, Chicago, IL  41.95469 -87.800991                9  \n",
       "1  4100  N OAK PARK AVE, Chicago, IL  41.95469 -87.800991                9  \n",
       "2  4100  N OAK PARK AVE, Chicago, IL  41.95469 -87.800991                9  \n",
       "3  4100  N OAK PARK AVE, Chicago, IL  41.95469 -87.800991                9  \n",
       "4  4100  N OAK PARK AVE, Chicago, IL  41.95469 -87.800991                9  "
      ]
     },
     "execution_count": 2193,
     "metadata": {},
     "output_type": "execute_result"
    }
   ],
   "source": [
    "test.head()"
   ]
  },
  {
   "cell_type": "code",
   "execution_count": 2194,
   "metadata": {
    "collapsed": false
   },
   "outputs": [
    {
     "data": {
      "text/html": [
       "<div style=\"max-height:1000px;max-width:1500px;overflow:auto;\">\n",
       "<table border=\"1\" class=\"dataframe\">\n",
       "  <thead>\n",
       "    <tr style=\"text-align: right;\">\n",
       "      <th></th>\n",
       "      <th>Id</th>\n",
       "      <th>Date</th>\n",
       "      <th>Address</th>\n",
       "      <th>Species</th>\n",
       "      <th>Block</th>\n",
       "      <th>Street</th>\n",
       "      <th>Trap</th>\n",
       "      <th>AddressNumberAndStreet</th>\n",
       "      <th>Latitude</th>\n",
       "      <th>Longitude</th>\n",
       "      <th>AddressAccuracy</th>\n",
       "      <th>Weather Effect</th>\n",
       "      <th>S_lat</th>\n",
       "      <th>S_long</th>\n",
       "    </tr>\n",
       "  </thead>\n",
       "  <tbody>\n",
       "    <tr>\n",
       "      <th>0</th>\n",
       "      <td> 1</td>\n",
       "      <td> 2008-06-11</td>\n",
       "      <td> 4100 North Oak Park Avenue, Chicago, IL 60634,...</td>\n",
       "      <td> CULEX PIPIENS/RESTUANS</td>\n",
       "      <td> 41</td>\n",
       "      <td>  N OAK PARK AVE</td>\n",
       "      <td> T002</td>\n",
       "      <td> 4100  N OAK PARK AVE, Chicago, IL</td>\n",
       "      <td> 41.95469</td>\n",
       "      <td>-87.800991</td>\n",
       "      <td> 9</td>\n",
       "      <td>-0.942053</td>\n",
       "      <td> 41.995</td>\n",
       "      <td>-87.933</td>\n",
       "    </tr>\n",
       "    <tr>\n",
       "      <th>1</th>\n",
       "      <td> 2</td>\n",
       "      <td> 2008-06-11</td>\n",
       "      <td> 4100 North Oak Park Avenue, Chicago, IL 60634,...</td>\n",
       "      <td>         CULEX RESTUANS</td>\n",
       "      <td> 41</td>\n",
       "      <td>  N OAK PARK AVE</td>\n",
       "      <td> T002</td>\n",
       "      <td> 4100  N OAK PARK AVE, Chicago, IL</td>\n",
       "      <td> 41.95469</td>\n",
       "      <td>-87.800991</td>\n",
       "      <td> 9</td>\n",
       "      <td>-0.942053</td>\n",
       "      <td> 41.995</td>\n",
       "      <td>-87.933</td>\n",
       "    </tr>\n",
       "    <tr>\n",
       "      <th>2</th>\n",
       "      <td> 3</td>\n",
       "      <td> 2008-06-11</td>\n",
       "      <td> 4100 North Oak Park Avenue, Chicago, IL 60634,...</td>\n",
       "      <td>          CULEX PIPIENS</td>\n",
       "      <td> 41</td>\n",
       "      <td>  N OAK PARK AVE</td>\n",
       "      <td> T002</td>\n",
       "      <td> 4100  N OAK PARK AVE, Chicago, IL</td>\n",
       "      <td> 41.95469</td>\n",
       "      <td>-87.800991</td>\n",
       "      <td> 9</td>\n",
       "      <td>-0.942053</td>\n",
       "      <td> 41.995</td>\n",
       "      <td>-87.933</td>\n",
       "    </tr>\n",
       "  </tbody>\n",
       "</table>\n",
       "</div>"
      ],
      "text/plain": [
       "   Id        Date                                            Address  \\\n",
       "0   1  2008-06-11  4100 North Oak Park Avenue, Chicago, IL 60634,...   \n",
       "1   2  2008-06-11  4100 North Oak Park Avenue, Chicago, IL 60634,...   \n",
       "2   3  2008-06-11  4100 North Oak Park Avenue, Chicago, IL 60634,...   \n",
       "\n",
       "                  Species  Block           Street  Trap  \\\n",
       "0  CULEX PIPIENS/RESTUANS     41   N OAK PARK AVE  T002   \n",
       "1          CULEX RESTUANS     41   N OAK PARK AVE  T002   \n",
       "2           CULEX PIPIENS     41   N OAK PARK AVE  T002   \n",
       "\n",
       "              AddressNumberAndStreet  Latitude  Longitude  AddressAccuracy  \\\n",
       "0  4100  N OAK PARK AVE, Chicago, IL  41.95469 -87.800991                9   \n",
       "1  4100  N OAK PARK AVE, Chicago, IL  41.95469 -87.800991                9   \n",
       "2  4100  N OAK PARK AVE, Chicago, IL  41.95469 -87.800991                9   \n",
       "\n",
       "   Weather Effect   S_lat  S_long  \n",
       "0       -0.942053  41.995 -87.933  \n",
       "1       -0.942053  41.995 -87.933  \n",
       "2       -0.942053  41.995 -87.933  "
      ]
     },
     "execution_count": 2194,
     "metadata": {},
     "output_type": "execute_result"
    }
   ],
   "source": [
    "test_weather = pd.merge(test, weather_new, how = 'inner', on = 'Date')\n",
    "test_weather.head(3)"
   ]
  },
  {
   "cell_type": "code",
   "execution_count": 2195,
   "metadata": {
    "collapsed": false
   },
   "outputs": [
    {
     "data": {
      "text/plain": [
       "\"\\nle.fit(test_weather.Species)\\nspecies_new2 = le.transform(test_weather.Species) \\ntest_weather['Species'] = species_new2\\n\""
      ]
     },
     "execution_count": 2195,
     "metadata": {},
     "output_type": "execute_result"
    }
   ],
   "source": [
    "#use label encoder on training species data and replace Species in \n",
    "\"\"\"\n",
    "le.fit(test_weather.Species)\n",
    "species_new2 = le.transform(test_weather.Species) \n",
    "test_weather['Species'] = species_new2\n",
    "\"\"\""
   ]
  },
  {
   "cell_type": "code",
   "execution_count": 2196,
   "metadata": {
    "collapsed": false
   },
   "outputs": [
    {
     "data": {
      "text/html": [
       "<div style=\"max-height:1000px;max-width:1500px;overflow:auto;\">\n",
       "<table border=\"1\" class=\"dataframe\">\n",
       "  <thead>\n",
       "    <tr style=\"text-align: right;\">\n",
       "      <th></th>\n",
       "      <th>Species_CULEX ERRATICUS</th>\n",
       "      <th>Species_CULEX PIPIENS</th>\n",
       "      <th>Species_CULEX PIPIENS/RESTUANS</th>\n",
       "      <th>Species_CULEX RESTUANS</th>\n",
       "      <th>Species_CULEX SALINARIUS</th>\n",
       "      <th>Species_CULEX TARSALIS</th>\n",
       "      <th>Species_CULEX TERRITANS</th>\n",
       "      <th>Species_UNSPECIFIED CULEX</th>\n",
       "    </tr>\n",
       "  </thead>\n",
       "  <tbody>\n",
       "    <tr>\n",
       "      <th>0</th>\n",
       "      <td> 0</td>\n",
       "      <td> 0</td>\n",
       "      <td> 1</td>\n",
       "      <td> 0</td>\n",
       "      <td> 0</td>\n",
       "      <td> 0</td>\n",
       "      <td> 0</td>\n",
       "      <td> 0</td>\n",
       "    </tr>\n",
       "    <tr>\n",
       "      <th>1</th>\n",
       "      <td> 0</td>\n",
       "      <td> 0</td>\n",
       "      <td> 0</td>\n",
       "      <td> 1</td>\n",
       "      <td> 0</td>\n",
       "      <td> 0</td>\n",
       "      <td> 0</td>\n",
       "      <td> 0</td>\n",
       "    </tr>\n",
       "    <tr>\n",
       "      <th>2</th>\n",
       "      <td> 0</td>\n",
       "      <td> 1</td>\n",
       "      <td> 0</td>\n",
       "      <td> 0</td>\n",
       "      <td> 0</td>\n",
       "      <td> 0</td>\n",
       "      <td> 0</td>\n",
       "      <td> 0</td>\n",
       "    </tr>\n",
       "    <tr>\n",
       "      <th>3</th>\n",
       "      <td> 0</td>\n",
       "      <td> 0</td>\n",
       "      <td> 0</td>\n",
       "      <td> 0</td>\n",
       "      <td> 1</td>\n",
       "      <td> 0</td>\n",
       "      <td> 0</td>\n",
       "      <td> 0</td>\n",
       "    </tr>\n",
       "    <tr>\n",
       "      <th>4</th>\n",
       "      <td> 0</td>\n",
       "      <td> 0</td>\n",
       "      <td> 0</td>\n",
       "      <td> 0</td>\n",
       "      <td> 0</td>\n",
       "      <td> 0</td>\n",
       "      <td> 1</td>\n",
       "      <td> 0</td>\n",
       "    </tr>\n",
       "  </tbody>\n",
       "</table>\n",
       "</div>"
      ],
      "text/plain": [
       "   Species_CULEX ERRATICUS  Species_CULEX PIPIENS  \\\n",
       "0                        0                      0   \n",
       "1                        0                      0   \n",
       "2                        0                      1   \n",
       "3                        0                      0   \n",
       "4                        0                      0   \n",
       "\n",
       "   Species_CULEX PIPIENS/RESTUANS  Species_CULEX RESTUANS  \\\n",
       "0                               1                       0   \n",
       "1                               0                       1   \n",
       "2                               0                       0   \n",
       "3                               0                       0   \n",
       "4                               0                       0   \n",
       "\n",
       "   Species_CULEX SALINARIUS  Species_CULEX TARSALIS  Species_CULEX TERRITANS  \\\n",
       "0                         0                       0                        0   \n",
       "1                         0                       0                        0   \n",
       "2                         0                       0                        0   \n",
       "3                         1                       0                        0   \n",
       "4                         0                       0                        1   \n",
       "\n",
       "   Species_UNSPECIFIED CULEX  \n",
       "0                          0  \n",
       "1                          0  \n",
       "2                          0  \n",
       "3                          0  \n",
       "4                          0  "
      ]
     },
     "execution_count": 2196,
     "metadata": {},
     "output_type": "execute_result"
    }
   ],
   "source": [
    "#create dummy variables for Species data\n",
    "test_species = pd.get_dummies(test_weather.Species, prefix = 'Species')\n",
    "test_species.head()"
   ]
  },
  {
   "cell_type": "code",
   "execution_count": 2197,
   "metadata": {
    "collapsed": false
   },
   "outputs": [
    {
     "data": {
      "text/html": [
       "<div style=\"max-height:1000px;max-width:1500px;overflow:auto;\">\n",
       "<table border=\"1\" class=\"dataframe\">\n",
       "  <thead>\n",
       "    <tr style=\"text-align: right;\">\n",
       "      <th></th>\n",
       "      <th>Species_CULEX ERRATICUS</th>\n",
       "      <th>Species_CULEX PIPIENS</th>\n",
       "      <th>Species_CULEX RESTUANS</th>\n",
       "      <th>Species_CULEX SALINARIUS</th>\n",
       "      <th>Species_CULEX TARSALIS</th>\n",
       "      <th>Species_CULEX TERRITANS</th>\n",
       "    </tr>\n",
       "  </thead>\n",
       "  <tbody>\n",
       "    <tr>\n",
       "      <th>0</th>\n",
       "      <td> 0</td>\n",
       "      <td> 0</td>\n",
       "      <td> 0</td>\n",
       "      <td> 0</td>\n",
       "      <td> 0</td>\n",
       "      <td> 0</td>\n",
       "    </tr>\n",
       "    <tr>\n",
       "      <th>1</th>\n",
       "      <td> 0</td>\n",
       "      <td> 0</td>\n",
       "      <td> 1</td>\n",
       "      <td> 0</td>\n",
       "      <td> 0</td>\n",
       "      <td> 0</td>\n",
       "    </tr>\n",
       "    <tr>\n",
       "      <th>2</th>\n",
       "      <td> 0</td>\n",
       "      <td> 1</td>\n",
       "      <td> 0</td>\n",
       "      <td> 0</td>\n",
       "      <td> 0</td>\n",
       "      <td> 0</td>\n",
       "    </tr>\n",
       "    <tr>\n",
       "      <th>3</th>\n",
       "      <td> 0</td>\n",
       "      <td> 0</td>\n",
       "      <td> 0</td>\n",
       "      <td> 1</td>\n",
       "      <td> 0</td>\n",
       "      <td> 0</td>\n",
       "    </tr>\n",
       "    <tr>\n",
       "      <th>4</th>\n",
       "      <td> 0</td>\n",
       "      <td> 0</td>\n",
       "      <td> 0</td>\n",
       "      <td> 0</td>\n",
       "      <td> 0</td>\n",
       "      <td> 1</td>\n",
       "    </tr>\n",
       "  </tbody>\n",
       "</table>\n",
       "</div>"
      ],
      "text/plain": [
       "   Species_CULEX ERRATICUS  Species_CULEX PIPIENS  Species_CULEX RESTUANS  \\\n",
       "0                        0                      0                       0   \n",
       "1                        0                      0                       1   \n",
       "2                        0                      1                       0   \n",
       "3                        0                      0                       0   \n",
       "4                        0                      0                       0   \n",
       "\n",
       "   Species_CULEX SALINARIUS  Species_CULEX TARSALIS  Species_CULEX TERRITANS  \n",
       "0                         0                       0                        0  \n",
       "1                         0                       0                        0  \n",
       "2                         0                       0                        0  \n",
       "3                         1                       0                        0  \n",
       "4                         0                       0                        1  "
      ]
     },
     "execution_count": 2197,
     "metadata": {},
     "output_type": "execute_result"
    }
   ],
   "source": [
    "#2d column corelates with 1st and 3rd column, if value of column 2 is 1 then column 1 and 3 are 1\n",
    "for r in test_species.index:\n",
    "    if test_species[test_species.columns[1]][r] == 1:\n",
    "        test_species[test_species.columns[0]][r] = 1\n",
    "        test_species[test_species.columns[2]][r] = 1\n",
    "    else:\n",
    "         1+1\n",
    "#drop column 3\n",
    "test_species = test_species.drop('Species_CULEX PIPIENS/RESTUANS',1)\n",
    "test_species = test_species.drop('Species_UNSPECIFIED CULEX',1)\n",
    "test_species['Species_CULEX ERRATICUS'] = np.zeros(len(test_species.index))\n",
    "\n",
    "test_species.head(5)\n",
    "        \n",
    "        \n",
    "        "
   ]
  },
  {
   "cell_type": "code",
   "execution_count": 2198,
   "metadata": {
    "collapsed": true
   },
   "outputs": [],
   "source": [
    "#combine species back into main dataframe\n",
    "test_final = pd.concat([test_weather, test_species], axis=1)"
   ]
  },
  {
   "cell_type": "code",
   "execution_count": 2199,
   "metadata": {
    "collapsed": false
   },
   "outputs": [
    {
     "data": {
      "text/plain": [
       "Index([u'Id', u'Date', u'Address', u'Species', u'Block', u'Street', u'Trap', u'AddressNumberAndStreet', u'Latitude', u'Longitude', u'AddressAccuracy', u'Weather Effect', u'S_lat', u'S_long', u'Species_CULEX ERRATICUS', u'Species_CULEX PIPIENS', u'Species_CULEX RESTUANS', u'Species_CULEX SALINARIUS', u'Species_CULEX TARSALIS', u'Species_CULEX TERRITANS'], dtype='object')"
      ]
     },
     "execution_count": 2199,
     "metadata": {},
     "output_type": "execute_result"
    }
   ],
   "source": [
    "test_final.columns"
   ]
  },
  {
   "cell_type": "code",
   "execution_count": 2200,
   "metadata": {
    "collapsed": false
   },
   "outputs": [
    {
     "data": {
      "text/html": [
       "<div style=\"max-height:1000px;max-width:1500px;overflow:auto;\">\n",
       "<table border=\"1\" class=\"dataframe\">\n",
       "  <thead>\n",
       "    <tr style=\"text-align: right;\">\n",
       "      <th></th>\n",
       "      <th>Id</th>\n",
       "      <th>Latitude</th>\n",
       "      <th>Longitude</th>\n",
       "      <th>AddressAccuracy</th>\n",
       "      <th>Weather Effect</th>\n",
       "      <th>Species_CULEX ERRATICUS</th>\n",
       "      <th>Species_CULEX PIPIENS</th>\n",
       "      <th>Species_CULEX RESTUANS</th>\n",
       "      <th>Species_CULEX SALINARIUS</th>\n",
       "      <th>Species_CULEX TARSALIS</th>\n",
       "      <th>Species_CULEX TERRITANS</th>\n",
       "    </tr>\n",
       "  </thead>\n",
       "  <tbody>\n",
       "    <tr>\n",
       "      <th>0</th>\n",
       "      <td> 1</td>\n",
       "      <td> 41.95469</td>\n",
       "      <td>-87.800991</td>\n",
       "      <td> 9</td>\n",
       "      <td>-0.942053</td>\n",
       "      <td> 0</td>\n",
       "      <td> 0</td>\n",
       "      <td> 0</td>\n",
       "      <td> 0</td>\n",
       "      <td> 0</td>\n",
       "      <td> 0</td>\n",
       "    </tr>\n",
       "    <tr>\n",
       "      <th>1</th>\n",
       "      <td> 2</td>\n",
       "      <td> 41.95469</td>\n",
       "      <td>-87.800991</td>\n",
       "      <td> 9</td>\n",
       "      <td>-0.942053</td>\n",
       "      <td> 0</td>\n",
       "      <td> 0</td>\n",
       "      <td> 1</td>\n",
       "      <td> 0</td>\n",
       "      <td> 0</td>\n",
       "      <td> 0</td>\n",
       "    </tr>\n",
       "    <tr>\n",
       "      <th>2</th>\n",
       "      <td> 3</td>\n",
       "      <td> 41.95469</td>\n",
       "      <td>-87.800991</td>\n",
       "      <td> 9</td>\n",
       "      <td>-0.942053</td>\n",
       "      <td> 0</td>\n",
       "      <td> 1</td>\n",
       "      <td> 0</td>\n",
       "      <td> 0</td>\n",
       "      <td> 0</td>\n",
       "      <td> 0</td>\n",
       "    </tr>\n",
       "    <tr>\n",
       "      <th>3</th>\n",
       "      <td> 4</td>\n",
       "      <td> 41.95469</td>\n",
       "      <td>-87.800991</td>\n",
       "      <td> 9</td>\n",
       "      <td>-0.942053</td>\n",
       "      <td> 0</td>\n",
       "      <td> 0</td>\n",
       "      <td> 0</td>\n",
       "      <td> 1</td>\n",
       "      <td> 0</td>\n",
       "      <td> 0</td>\n",
       "    </tr>\n",
       "    <tr>\n",
       "      <th>4</th>\n",
       "      <td> 5</td>\n",
       "      <td> 41.95469</td>\n",
       "      <td>-87.800991</td>\n",
       "      <td> 9</td>\n",
       "      <td>-0.942053</td>\n",
       "      <td> 0</td>\n",
       "      <td> 0</td>\n",
       "      <td> 0</td>\n",
       "      <td> 0</td>\n",
       "      <td> 0</td>\n",
       "      <td> 1</td>\n",
       "    </tr>\n",
       "  </tbody>\n",
       "</table>\n",
       "</div>"
      ],
      "text/plain": [
       "   Id  Latitude  Longitude  AddressAccuracy  Weather Effect  \\\n",
       "0   1  41.95469 -87.800991                9       -0.942053   \n",
       "1   2  41.95469 -87.800991                9       -0.942053   \n",
       "2   3  41.95469 -87.800991                9       -0.942053   \n",
       "3   4  41.95469 -87.800991                9       -0.942053   \n",
       "4   5  41.95469 -87.800991                9       -0.942053   \n",
       "\n",
       "   Species_CULEX ERRATICUS  Species_CULEX PIPIENS  Species_CULEX RESTUANS  \\\n",
       "0                        0                      0                       0   \n",
       "1                        0                      0                       1   \n",
       "2                        0                      1                       0   \n",
       "3                        0                      0                       0   \n",
       "4                        0                      0                       0   \n",
       "\n",
       "   Species_CULEX SALINARIUS  Species_CULEX TARSALIS  Species_CULEX TERRITANS  \n",
       "0                         0                       0                        0  \n",
       "1                         0                       0                        0  \n",
       "2                         0                       0                        0  \n",
       "3                         1                       0                        0  \n",
       "4                         0                       0                        1  "
      ]
     },
     "execution_count": 2200,
     "metadata": {},
     "output_type": "execute_result"
    }
   ],
   "source": [
    "#drop unnecessary columns\n",
    "test_final2 = test_final.drop(test_final.columns[[1,2,3,4,5,6,7,12,13]],1)\n",
    "test_final2.head()"
   ]
  },
  {
   "cell_type": "code",
   "execution_count": 2201,
   "metadata": {
    "collapsed": false
   },
   "outputs": [
    {
     "data": {
      "text/html": [
       "<div style=\"max-height:1000px;max-width:1500px;overflow:auto;\">\n",
       "<table border=\"1\" class=\"dataframe\">\n",
       "  <thead>\n",
       "    <tr style=\"text-align: right;\">\n",
       "      <th></th>\n",
       "      <th>Latitude</th>\n",
       "      <th>Longitude</th>\n",
       "      <th>AddressAccuracy</th>\n",
       "      <th>Weather Effect</th>\n",
       "      <th>Species_CULEX ERRATICUS</th>\n",
       "      <th>Species_CULEX PIPIENS</th>\n",
       "      <th>Species_CULEX RESTUANS</th>\n",
       "      <th>Species_CULEX SALINARIUS</th>\n",
       "      <th>Species_CULEX TARSALIS</th>\n",
       "      <th>Species_CULEX TERRITANS</th>\n",
       "    </tr>\n",
       "  </thead>\n",
       "  <tbody>\n",
       "    <tr>\n",
       "      <th>0</th>\n",
       "      <td> 41.95469</td>\n",
       "      <td>-87.800991</td>\n",
       "      <td> 9</td>\n",
       "      <td>-0.942053</td>\n",
       "      <td> 0</td>\n",
       "      <td> 0</td>\n",
       "      <td> 0</td>\n",
       "      <td> 0</td>\n",
       "      <td> 0</td>\n",
       "      <td> 0</td>\n",
       "    </tr>\n",
       "    <tr>\n",
       "      <th>1</th>\n",
       "      <td> 41.95469</td>\n",
       "      <td>-87.800991</td>\n",
       "      <td> 9</td>\n",
       "      <td>-0.942053</td>\n",
       "      <td> 0</td>\n",
       "      <td> 0</td>\n",
       "      <td> 1</td>\n",
       "      <td> 0</td>\n",
       "      <td> 0</td>\n",
       "      <td> 0</td>\n",
       "    </tr>\n",
       "    <tr>\n",
       "      <th>2</th>\n",
       "      <td> 41.95469</td>\n",
       "      <td>-87.800991</td>\n",
       "      <td> 9</td>\n",
       "      <td>-0.942053</td>\n",
       "      <td> 0</td>\n",
       "      <td> 1</td>\n",
       "      <td> 0</td>\n",
       "      <td> 0</td>\n",
       "      <td> 0</td>\n",
       "      <td> 0</td>\n",
       "    </tr>\n",
       "    <tr>\n",
       "      <th>3</th>\n",
       "      <td> 41.95469</td>\n",
       "      <td>-87.800991</td>\n",
       "      <td> 9</td>\n",
       "      <td>-0.942053</td>\n",
       "      <td> 0</td>\n",
       "      <td> 0</td>\n",
       "      <td> 0</td>\n",
       "      <td> 1</td>\n",
       "      <td> 0</td>\n",
       "      <td> 0</td>\n",
       "    </tr>\n",
       "    <tr>\n",
       "      <th>4</th>\n",
       "      <td> 41.95469</td>\n",
       "      <td>-87.800991</td>\n",
       "      <td> 9</td>\n",
       "      <td>-0.942053</td>\n",
       "      <td> 0</td>\n",
       "      <td> 0</td>\n",
       "      <td> 0</td>\n",
       "      <td> 0</td>\n",
       "      <td> 0</td>\n",
       "      <td> 1</td>\n",
       "    </tr>\n",
       "  </tbody>\n",
       "</table>\n",
       "</div>"
      ],
      "text/plain": [
       "   Latitude  Longitude  AddressAccuracy  Weather Effect  \\\n",
       "0  41.95469 -87.800991                9       -0.942053   \n",
       "1  41.95469 -87.800991                9       -0.942053   \n",
       "2  41.95469 -87.800991                9       -0.942053   \n",
       "3  41.95469 -87.800991                9       -0.942053   \n",
       "4  41.95469 -87.800991                9       -0.942053   \n",
       "\n",
       "   Species_CULEX ERRATICUS  Species_CULEX PIPIENS  Species_CULEX RESTUANS  \\\n",
       "0                        0                      0                       0   \n",
       "1                        0                      0                       1   \n",
       "2                        0                      1                       0   \n",
       "3                        0                      0                       0   \n",
       "4                        0                      0                       0   \n",
       "\n",
       "   Species_CULEX SALINARIUS  Species_CULEX TARSALIS  Species_CULEX TERRITANS  \n",
       "0                         0                       0                        0  \n",
       "1                         0                       0                        0  \n",
       "2                         0                       0                        0  \n",
       "3                         1                       0                        0  \n",
       "4                         0                       0                        1  "
      ]
     },
     "execution_count": 2201,
     "metadata": {},
     "output_type": "execute_result"
    }
   ],
   "source": [
    "#create features test\n",
    "features_test = test_final[test_final2.columns[1:]]\n",
    "features_test.head(5)"
   ]
  },
  {
   "cell_type": "code",
   "execution_count": 2202,
   "metadata": {
    "collapsed": false
   },
   "outputs": [
    {
     "data": {
      "text/plain": [
       "array([0, 0, 0, ..., 0, 0, 0])"
      ]
     },
     "execution_count": 2202,
     "metadata": {},
     "output_type": "execute_result"
    }
   ],
   "source": [
    "target_predicted = lr.predict(features_test)\n",
    "target_predicted"
   ]
  },
  {
   "cell_type": "code",
   "execution_count": 2203,
   "metadata": {
    "collapsed": false
   },
   "outputs": [
    {
     "data": {
      "text/html": [
       "<div style=\"max-height:1000px;max-width:1500px;overflow:auto;\">\n",
       "<table border=\"1\" class=\"dataframe\">\n",
       "  <thead>\n",
       "    <tr style=\"text-align: right;\">\n",
       "      <th></th>\n",
       "      <th>Id</th>\n",
       "      <th>WnvPresent</th>\n",
       "    </tr>\n",
       "  </thead>\n",
       "  <tbody>\n",
       "    <tr>\n",
       "      <th>0</th>\n",
       "      <td> 1</td>\n",
       "      <td> 0</td>\n",
       "    </tr>\n",
       "    <tr>\n",
       "      <th>1</th>\n",
       "      <td> 2</td>\n",
       "      <td> 0</td>\n",
       "    </tr>\n",
       "    <tr>\n",
       "      <th>2</th>\n",
       "      <td> 3</td>\n",
       "      <td> 0</td>\n",
       "    </tr>\n",
       "    <tr>\n",
       "      <th>3</th>\n",
       "      <td> 4</td>\n",
       "      <td> 0</td>\n",
       "    </tr>\n",
       "    <tr>\n",
       "      <th>4</th>\n",
       "      <td> 5</td>\n",
       "      <td> 0</td>\n",
       "    </tr>\n",
       "  </tbody>\n",
       "</table>\n",
       "</div>"
      ],
      "text/plain": [
       "   Id  WnvPresent\n",
       "0   1           0\n",
       "1   2           0\n",
       "2   3           0\n",
       "3   4           0\n",
       "4   5           0"
      ]
     },
     "execution_count": 2203,
     "metadata": {},
     "output_type": "execute_result"
    }
   ],
   "source": [
    "#Create Submission file\n",
    "submission = test_final2.drop(test_final2.columns[1:],1)\n",
    "submission['WnvPresent'] = target_predicted\n",
    "submission.head(5)"
   ]
  },
  {
   "cell_type": "code",
   "execution_count": 2204,
   "metadata": {
    "collapsed": false
   },
   "outputs": [
    {
     "name": "stdout",
     "output_type": "stream",
     "text": [
      "   Id  WnvPresent\n",
      "0   1           0\n",
      "1   2           0\n",
      "2   3           0\n",
      "3   4           0\n",
      "4   5           0\n",
      "   Id  WnvPresent\n",
      "0   1           0\n",
      "1   2           0\n",
      "2   3           0\n",
      "3   4           0\n",
      "4   5           0\n"
     ]
    }
   ],
   "source": [
    "print submission.head()\n",
    "print sample_submission.head()"
   ]
  },
  {
   "cell_type": "code",
   "execution_count": 2205,
   "metadata": {
    "collapsed": false
   },
   "outputs": [],
   "source": [
    "submission.to_csv('/home/jerd/Desktop/submission.csv',columns=['Id','WnvPresent'])"
   ]
  },
  {
   "cell_type": "code",
   "execution_count": 2206,
   "metadata": {
    "collapsed": false
   },
   "outputs": [
    {
     "data": {
      "text/plain": [
       "array([0])"
      ]
     },
     "execution_count": 2206,
     "metadata": {},
     "output_type": "execute_result"
    }
   ],
   "source": [
    "submission.WnvPresent.unique()"
   ]
  },
  {
   "cell_type": "code",
   "execution_count": null,
   "metadata": {
    "collapsed": true
   },
   "outputs": [],
   "source": []
  },
  {
   "cell_type": "code",
   "execution_count": null,
   "metadata": {
    "collapsed": true
   },
   "outputs": [],
   "source": []
  },
  {
   "cell_type": "code",
   "execution_count": null,
   "metadata": {
    "collapsed": true
   },
   "outputs": [],
   "source": []
  },
  {
   "cell_type": "code",
   "execution_count": null,
   "metadata": {
    "collapsed": true
   },
   "outputs": [],
   "source": []
  }
 ],
 "metadata": {
  "kernelspec": {
   "display_name": "Python 2",
   "language": "python",
   "name": "python2"
  },
  "language_info": {
   "codemirror_mode": {
    "name": "ipython",
    "version": 2
   },
   "file_extension": ".py",
   "mimetype": "text/x-python",
   "name": "python",
   "nbconvert_exporter": "python",
   "pygments_lexer": "ipython2",
   "version": "2.7.9"
  }
 },
 "nbformat": 4,
 "nbformat_minor": 0
}
